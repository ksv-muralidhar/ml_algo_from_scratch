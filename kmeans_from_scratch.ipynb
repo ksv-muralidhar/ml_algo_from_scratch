{
 "cells": [
  {
   "cell_type": "code",
   "execution_count": 1,
   "id": "d646667a-99af-4550-bb57-3663bfb848d8",
   "metadata": {
    "tags": []
   },
   "outputs": [],
   "source": [
    "import numpy as np"
   ]
  },
  {
   "cell_type": "code",
   "execution_count": 2,
   "id": "3e903a83-61ed-40b1-8fcc-203b8acb07ce",
   "metadata": {
    "tags": []
   },
   "outputs": [],
   "source": [
    "class KmeansCluster:\n",
    "    '''\n",
    "    Custom KMeans clustering algorithm developed just using Numpy\n",
    "    \n",
    "    Params:\n",
    "     k (int): number of clusters\n",
    "     random_state (int): random seed\n",
    "     max_iter (int): number of iterations to update clusters\n",
    "    '''\n",
    "    def __init__(self, k: int=4, random_state: int=42, max_iter: int=1000):\n",
    "        self.k = k\n",
    "        self.random_state = random_state\n",
    "        self.max_iter = max_iter\n",
    "        self.centroids = None\n",
    "        self.__wcss = []\n",
    "        self.inertia_ = None\n",
    "    \n",
    "    \n",
    "    @staticmethod\n",
    "    def __euclidean_distance(x1, x2):\n",
    "        '''\n",
    "        Compute euclidean distance between arrays x1 and x2\n",
    "        '''\n",
    "        return np.sqrt(np.sum((x1 - x2) ** 2, axis=1))\n",
    "\n",
    "    \n",
    "    def __get_init_centroids(self, x):\n",
    "        '''\n",
    "        Initializes random 'k' centroids\n",
    "        '''\n",
    "        np.random.seed(self.random_state)\n",
    "        rand_samp = np.random.choice(np.arange(x.shape[0]), self.k, replace=False)\n",
    "        self.centroids = x[rand_samp]\n",
    "\n",
    "    \n",
    "    def fit(self, x):\n",
    "        '''\n",
    "        Fits the model to the data \n",
    "        \n",
    "        Params:\n",
    "         x: numpy.array\n",
    "         Input array to identify clusters\n",
    "        '''\n",
    "        self.__get_init_centroids(x) # initializing 'k' random centroids from input array\n",
    "        for iter in range(self.max_iter): # iterating until wcss doesn't improve\n",
    "            wcss_score = 0\n",
    "            clusters = np.array([]) # cluster array init\n",
    "            for sample in x: # for each sample in input array x\n",
    "                dist_arr = self.__euclidean_distance(sample, self.centroids) # computing euclidean distance between each sample and 'k' centroids\n",
    "                clusters = np.append(clusters, np.argmin(dist_arr)) # assigning argmin of dist of sample from 'k' centroids as cluster\n",
    "\n",
    "            for cluster_idx in range(self.k):\n",
    "                subset = x[np.where(clusters==cluster_idx)].copy() # slicing input array belonging to cluster 'cluster_idx'\n",
    "                self.centroids[cluster_idx] = np.mean(subset, axis=0) # updating centroids as mean of samples in a cluster\n",
    "                wcss_score += np.sum(self.__euclidean_distance(self.centroids[cluster_idx], subset) ** 2) # within cluster sum of square for all samples from their centroids\n",
    "            self.__wcss.append(wcss_score)\n",
    "\n",
    "            if len(self.__wcss) >= 2:\n",
    "                if np.abs(self.__wcss[-1] - self.__wcss[-2]) == 0: # checking if wcss is same\n",
    "                    self.inertia_ = self.__wcss[-1]\n",
    "                    break # exit when there is no improvement is found in wcss\n",
    "        return self\n",
    "    \n",
    "    \n",
    "    def predict(self, x):\n",
    "        '''\n",
    "        Predicts clusters of input array\n",
    "        \n",
    "        Params:\n",
    "         x: numpy.array \n",
    "         Input array to identify clusters\n",
    "         \n",
    "        Returns: \n",
    "         numpy.array: cluster indices\n",
    "        \n",
    "        '''\n",
    "        clusters = np.array([])\n",
    "        for sample in x:\n",
    "            dist_arr = self.__euclidean_distance(sample, self.centroids) # computing euclidean distance between each sample and centroids obtained after model fitting\n",
    "            clusters = np.append(clusters, np.argmin(dist_arr)) # assigning argmin of dist of sample from centroids as cluster\n",
    "        return clusters\n",
    "    \n",
    "    \n",
    "    def __repr__(self):\n",
    "        return f\"KmeansCluster(k={self.k}, random_state={self.random_state}, max_iter={self.max_iter})\""
   ]
  },
  {
   "cell_type": "markdown",
   "id": "4f876173-2620-4d48-895b-7148071aaf1c",
   "metadata": {},
   "source": [
    "# Loading and scaling Iris dataset"
   ]
  },
  {
   "cell_type": "code",
   "execution_count": 3,
   "id": "c3c75302-52ed-4de8-ad05-734386057011",
   "metadata": {
    "tags": []
   },
   "outputs": [],
   "source": [
    "from sklearn.datasets import load_iris\n",
    "import pandas as pd\n",
    "import matplotlib.pyplot as plt\n",
    "import seaborn as sns\n",
    "from sklearn.preprocessing import MinMaxScaler\n",
    "from sklearn.decomposition import PCA\n",
    "%matplotlib inline"
   ]
  },
  {
   "cell_type": "code",
   "execution_count": 4,
   "id": "3541ea88-9884-4076-8b0a-fd4b12c245ef",
   "metadata": {
    "tags": []
   },
   "outputs": [],
   "source": [
    "x = load_iris()['data']"
   ]
  },
  {
   "cell_type": "code",
   "execution_count": 5,
   "id": "bfad9f98-f196-402f-b66c-54023ea88b35",
   "metadata": {
    "tags": []
   },
   "outputs": [],
   "source": [
    "minmax_scaler = MinMaxScaler()\n",
    "x = minmax_scaler.fit_transform(x)"
   ]
  },
  {
   "cell_type": "markdown",
   "id": "2f9eea85-279e-4edd-af24-81f46c66974b",
   "metadata": {},
   "source": [
    "# Finding Best 'k' using elbow method"
   ]
  },
  {
   "cell_type": "code",
   "execution_count": 6,
   "id": "137eac48-c28e-4bf3-8c91-0c0350fe3ecb",
   "metadata": {
    "tags": []
   },
   "outputs": [],
   "source": [
    "inertia = []\n",
    "for k in range(1,11):\n",
    "    kmeans = KmeansCluster(k=k)\n",
    "    _ = kmeans.fit(x)\n",
    "    inertia.append(kmeans.inertia_)"
   ]
  },
  {
   "cell_type": "code",
   "execution_count": 7,
   "id": "917784c7-0f63-44fa-b63e-7f6905b42bd4",
   "metadata": {
    "tags": []
   },
   "outputs": [
    {
     "data": {
      "text/html": [
       "<div>\n",
       "<style scoped>\n",
       "    .dataframe tbody tr th:only-of-type {\n",
       "        vertical-align: middle;\n",
       "    }\n",
       "\n",
       "    .dataframe tbody tr th {\n",
       "        vertical-align: top;\n",
       "    }\n",
       "\n",
       "    .dataframe thead th {\n",
       "        text-align: right;\n",
       "    }\n",
       "</style>\n",
       "<table border=\"1\" class=\"dataframe\">\n",
       "  <thead>\n",
       "    <tr style=\"text-align: right;\">\n",
       "      <th></th>\n",
       "      <th>k</th>\n",
       "      <th>inertia</th>\n",
       "    </tr>\n",
       "  </thead>\n",
       "  <tbody>\n",
       "    <tr>\n",
       "      <th>0</th>\n",
       "      <td>1</td>\n",
       "      <td>41.166110</td>\n",
       "    </tr>\n",
       "    <tr>\n",
       "      <th>1</th>\n",
       "      <td>2</td>\n",
       "      <td>12.127791</td>\n",
       "    </tr>\n",
       "    <tr>\n",
       "      <th>2</th>\n",
       "      <td>3</td>\n",
       "      <td>6.982216</td>\n",
       "    </tr>\n",
       "    <tr>\n",
       "      <th>3</th>\n",
       "      <td>4</td>\n",
       "      <td>5.523244</td>\n",
       "    </tr>\n",
       "    <tr>\n",
       "      <th>4</th>\n",
       "      <td>5</td>\n",
       "      <td>4.859706</td>\n",
       "    </tr>\n",
       "    <tr>\n",
       "      <th>5</th>\n",
       "      <td>6</td>\n",
       "      <td>3.961393</td>\n",
       "    </tr>\n",
       "    <tr>\n",
       "      <th>6</th>\n",
       "      <td>7</td>\n",
       "      <td>3.777624</td>\n",
       "    </tr>\n",
       "    <tr>\n",
       "      <th>7</th>\n",
       "      <td>8</td>\n",
       "      <td>3.213069</td>\n",
       "    </tr>\n",
       "    <tr>\n",
       "      <th>8</th>\n",
       "      <td>9</td>\n",
       "      <td>2.948136</td>\n",
       "    </tr>\n",
       "    <tr>\n",
       "      <th>9</th>\n",
       "      <td>10</td>\n",
       "      <td>2.817561</td>\n",
       "    </tr>\n",
       "  </tbody>\n",
       "</table>\n",
       "</div>"
      ],
      "text/plain": [
       "    k    inertia\n",
       "0   1  41.166110\n",
       "1   2  12.127791\n",
       "2   3   6.982216\n",
       "3   4   5.523244\n",
       "4   5   4.859706\n",
       "5   6   3.961393\n",
       "6   7   3.777624\n",
       "7   8   3.213069\n",
       "8   9   2.948136\n",
       "9  10   2.817561"
      ]
     },
     "execution_count": 7,
     "metadata": {},
     "output_type": "execute_result"
    }
   ],
   "source": [
    "inertia_df = pd.DataFrame({'k': range(1, 11), 'inertia': inertia})\n",
    "inertia_df"
   ]
  },
  {
   "cell_type": "code",
   "execution_count": 8,
   "id": "b68915cd-c460-4563-8ff2-087581ee0663",
   "metadata": {
    "tags": []
   },
   "outputs": [
    {
     "data": {
      "image/png": "[encoded data removed]",
      "text/plain": [
       "<Figure size 640x480 with 1 Axes>"
      ]
     },
     "metadata": {},
     "output_type": "display_data"
    }
   ],
   "source": [
    "inertia_df.plot(x='k', y='inertia',marker='o');"
   ]
  },
  {
   "cell_type": "markdown",
   "id": "9edc4246-6f4c-49f9-b52e-ca3e2be3f1cb",
   "metadata": {},
   "source": [
    "# Best 'k' =3"
   ]
  },
  {
   "cell_type": "code",
   "execution_count": 9,
   "id": "50ce5e7a-e9d1-4903-9420-b201135494c8",
   "metadata": {
    "tags": []
   },
   "outputs": [],
   "source": [
    "kmeans = KmeansCluster(k=3)"
   ]
  },
  {
   "cell_type": "code",
   "execution_count": 10,
   "id": "8ba79c69-76de-46d6-a32e-9b69fa0871cc",
   "metadata": {
    "tags": []
   },
   "outputs": [
    {
     "data": {
      "text/plain": [
       "KmeansCluster(k=3, random_state=42, max_iter=1000)"
      ]
     },
     "execution_count": 10,
     "metadata": {},
     "output_type": "execute_result"
    }
   ],
   "source": [
    "kmeans.fit(x)"
   ]
  },
  {
   "cell_type": "code",
   "execution_count": 11,
   "id": "c782a581-2ba7-4d48-b582-5c164f753b1f",
   "metadata": {
    "tags": []
   },
   "outputs": [],
   "source": [
    "clusters = kmeans.predict(x)"
   ]
  },
  {
   "cell_type": "code",
   "execution_count": 12,
   "id": "05937add-0708-43eb-8dd1-77d58e300ad5",
   "metadata": {
    "tags": []
   },
   "outputs": [
    {
     "data": {
      "text/plain": [
       "array([1., 1., 1., 1., 1., 1., 1., 1., 1., 1., 1., 1., 1., 1., 1., 1., 1.,\n",
       "       1., 1., 1., 1., 1., 1., 1., 1., 1., 1., 1., 1., 1., 1., 1., 1., 1.,\n",
       "       1., 1., 1., 1., 1., 1., 1., 1., 1., 1., 1., 1., 1., 1., 1., 1., 2.,\n",
       "       0., 2., 0., 0., 0., 0., 0., 0., 0., 0., 0., 0., 0., 0., 0., 0., 0.,\n",
       "       0., 0., 0., 0., 0., 0., 0., 0., 0., 2., 0., 0., 0., 0., 0., 0., 0.,\n",
       "       0., 0., 0., 0., 0., 0., 0., 0., 0., 0., 0., 0., 0., 0., 0., 2., 0.,\n",
       "       2., 2., 2., 2., 0., 2., 2., 2., 2., 2., 2., 0., 2., 2., 2., 2., 2.,\n",
       "       0., 2., 0., 2., 0., 2., 2., 0., 0., 2., 2., 2., 2., 2., 0., 0., 2.,\n",
       "       2., 2., 0., 2., 2., 2., 0., 2., 2., 2., 0., 2., 2., 0.])"
      ]
     },
     "execution_count": 12,
     "metadata": {},
     "output_type": "execute_result"
    }
   ],
   "source": [
    "clusters"
   ]
  },
  {
   "cell_type": "code",
   "execution_count": 13,
   "id": "dd542dc4-ef6e-4748-8777-bc2f8237a742",
   "metadata": {
    "tags": []
   },
   "outputs": [
    {
     "data": {
      "text/plain": [
       "6.982216473785234"
      ]
     },
     "execution_count": 13,
     "metadata": {},
     "output_type": "execute_result"
    }
   ],
   "source": [
    "kmeans.inertia_"
   ]
  },
  {
   "cell_type": "code",
   "execution_count": 14,
   "id": "532b3f18-4a8d-4627-af2d-f15b44f21ce6",
   "metadata": {
    "tags": []
   },
   "outputs": [
    {
     "data": {
      "text/plain": [
       "array([1., 1., 1., 1., 1.])"
      ]
     },
     "execution_count": 14,
     "metadata": {},
     "output_type": "execute_result"
    }
   ],
   "source": [
    "kmeans.predict(x[0:5])"
   ]
  },
  {
   "cell_type": "code",
   "execution_count": 15,
   "id": "4a5d6851-c458-4d68-9b3f-6197184f56f5",
   "metadata": {
    "tags": []
   },
   "outputs": [],
   "source": [
    "pca = PCA(n_components=2)"
   ]
  },
  {
   "cell_type": "code",
   "execution_count": 16,
   "id": "889ed877-1d86-4de5-9346-20896674de9c",
   "metadata": {
    "tags": []
   },
   "outputs": [],
   "source": [
    "X_pca = pca.fit_transform(x)"
   ]
  },
  {
   "cell_type": "code",
   "execution_count": 17,
   "id": "5b72fa2f-c2fd-4574-bf28-1c518246a2f8",
   "metadata": {
    "tags": []
   },
   "outputs": [
    {
     "name": "stdout",
     "output_type": "stream",
     "text": [
      "[0.84136038 0.95887846]\n"
     ]
    }
   ],
   "source": [
    "evr = np.cumsum(pca.explained_variance_ratio_)\n",
    "print(evr)"
   ]
  },
  {
   "cell_type": "code",
   "execution_count": 18,
   "id": "77519f24-7916-4c71-a200-d8081c263442",
   "metadata": {
    "tags": []
   },
   "outputs": [],
   "source": [
    "X_pca=pd.DataFrame(X_pca)\n",
    "X_pca.columns=[\"pc1\",\"pc2\"]\n",
    "X_pca[\"y\"]=clusters"
   ]
  },
  {
   "cell_type": "code",
   "execution_count": 19,
   "id": "c01b58f7-3ec7-483d-b921-90c6bf0ab519",
   "metadata": {
    "tags": []
   },
   "outputs": [
    {
     "data": {
      "image/png": "[encoded data removed]",
      "text/plain": [
       "<Figure size 640x480 with 1 Axes>"
      ]
     },
     "metadata": {},
     "output_type": "display_data"
    }
   ],
   "source": [
    "sns.scatterplot(X_pca, x='pc1', y='pc2', hue='y');"
   ]
  },
  {
   "cell_type": "code",
   "execution_count": null,
   "id": "8ad57a54-da52-4018-898f-22c0d1057f23",
   "metadata": {},
   "outputs": [],
   "source": []
  }
 ],
 "metadata": {
  "kernelspec": {
   "display_name": "Python 3 (ipykernel)",
   "language": "python",
   "name": "python3"
  },
  "language_info": {
   "codemirror_mode": {
    "name": "ipython",
    "version": 3
   },
   "file_extension": ".py",
   "mimetype": "text/x-python",
   "name": "python",
   "nbconvert_exporter": "python",
   "pygments_lexer": "ipython3",
   "version": "3.11.4"
  }
 },
 "nbformat": 4,
 "nbformat_minor": 5
}
