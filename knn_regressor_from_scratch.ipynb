{
 "cells": [
  {
   "cell_type": "code",
   "execution_count": 1,
   "id": "4aea9288-6ff5-41c9-8828-b53cda289db0",
   "metadata": {
    "tags": []
   },
   "outputs": [],
   "source": [
    "import numpy as np\n",
    "from collections import Counter\n",
    "from sklearn.base import BaseEstimator, TransformerMixin"
   ]
  },
  {
   "cell_type": "code",
   "execution_count": 2,
   "id": "067782b4-3b22-429a-969a-193952a75153",
   "metadata": {
    "tags": []
   },
   "outputs": [],
   "source": [
    "# Inheriting BaseEstimator & TransformerMixin to make the class compatible with sklearn components\n",
    "class KNNRegressor(BaseEstimator, TransformerMixin): \n",
    "    '''\n",
    "    KNN regressor built from scratch\n",
    "    \n",
    "    Params:\n",
    "     k (int): number of clusters\n",
    "    '''\n",
    "    def __init__(self, k: int=3):\n",
    "        self.k = k\n",
    "        self.x = None\n",
    "        self.y = None\n",
    "    \n",
    "    \n",
    "    @staticmethod\n",
    "    def __euclidean_distance(x1, x2):\n",
    "        '''\n",
    "        Compute euclidean distance between arrays x1 and x2\n",
    "        '''\n",
    "        return np.sqrt(np.sum((x1 - x2) ** 2, axis=1))\n",
    "\n",
    "    \n",
    "    def fit(self, x: np.array, y: np.array):\n",
    "        '''\n",
    "        Stores x and y\n",
    "        \n",
    "        Params:\n",
    "         x (numpy.array): Input features\n",
    "         y (numpy.array): labels\n",
    "        '''\n",
    "        self.x = x\n",
    "        self.y = y\n",
    "        return self\n",
    "    \n",
    "    \n",
    "    def predict(self, x: np.array):\n",
    "        '''\n",
    "        Prediction function\n",
    "        \n",
    "        Params:\n",
    "         x (numpy.array): Input features for prediction\n",
    "         \n",
    "        Returns: \n",
    "         numpy.array: predicted labels\n",
    "        \n",
    "        '''\n",
    "        # 1. computing euclidean distance between each sample in test set and training set\n",
    "        # 2. Arg sorting the distances such that sample indices with lowest distance come first\n",
    "        # 3. Selecting top 'k' sample indices\n",
    "        # 4. Selecting labels of top 'k' sample indices\n",
    "        # 5. computing mean of top 'k' labels and returning as prediction\n",
    "        pred = [np.mean(self.y[np.argsort(self.__euclidean_distance(sample, self.x))[:self.k]]) for sample in x]\n",
    "        return pred\n",
    "    \n",
    "    \n",
    "    def __repr__(self):\n",
    "        return f\"KNNRegressor(k={self.k})\""
   ]
  },
  {
   "cell_type": "code",
   "execution_count": 3,
   "id": "71eac139-7500-4106-9c40-291bbba5244c",
   "metadata": {
    "tags": []
   },
   "outputs": [],
   "source": [
    "import pandas as pd\n",
    "from sklearn.preprocessing import MinMaxScaler\n",
    "from sklearn.model_selection import train_test_split\n",
    "from sklearn.metrics import mean_squared_error\n",
    "from sklearn.pipeline import Pipeline\n",
    "from sklearn.model_selection import GridSearchCV"
   ]
  },
  {
   "cell_type": "code",
   "execution_count": 4,
   "id": "7591c1be-d380-4365-a8a4-e27566a5a3fc",
   "metadata": {
    "tags": []
   },
   "outputs": [],
   "source": [
    "np.random.seed(42)\n",
    "data = pd.DataFrame({'x1': np.arange(20000), 'x2': np.arange(20000, 0, -1), 'x3': np.random.randint(low=0, high=100000, size=20000)})\n",
    "data['y'] = data.sum(axis=1)"
   ]
  },
  {
   "cell_type": "code",
   "execution_count": 5,
   "id": "281ca254-677c-42af-9e96-dadbac01aeea",
   "metadata": {
    "tags": []
   },
   "outputs": [
    {
     "data": {
      "text/html": [
       "<div>\n",
       "<style scoped>\n",
       "    .dataframe tbody tr th:only-of-type {\n",
       "        vertical-align: middle;\n",
       "    }\n",
       "\n",
       "    .dataframe tbody tr th {\n",
       "        vertical-align: top;\n",
       "    }\n",
       "\n",
       "    .dataframe thead th {\n",
       "        text-align: right;\n",
       "    }\n",
       "</style>\n",
       "<table border=\"1\" class=\"dataframe\">\n",
       "  <thead>\n",
       "    <tr style=\"text-align: right;\">\n",
       "      <th></th>\n",
       "      <th>x1</th>\n",
       "      <th>x2</th>\n",
       "      <th>x3</th>\n",
       "      <th>y</th>\n",
       "    </tr>\n",
       "  </thead>\n",
       "  <tbody>\n",
       "    <tr>\n",
       "      <th>0</th>\n",
       "      <td>0</td>\n",
       "      <td>20000</td>\n",
       "      <td>15795</td>\n",
       "      <td>35795</td>\n",
       "    </tr>\n",
       "    <tr>\n",
       "      <th>1</th>\n",
       "      <td>1</td>\n",
       "      <td>19999</td>\n",
       "      <td>860</td>\n",
       "      <td>20860</td>\n",
       "    </tr>\n",
       "    <tr>\n",
       "      <th>2</th>\n",
       "      <td>2</td>\n",
       "      <td>19998</td>\n",
       "      <td>76820</td>\n",
       "      <td>96820</td>\n",
       "    </tr>\n",
       "    <tr>\n",
       "      <th>3</th>\n",
       "      <td>3</td>\n",
       "      <td>19997</td>\n",
       "      <td>54886</td>\n",
       "      <td>74886</td>\n",
       "    </tr>\n",
       "    <tr>\n",
       "      <th>4</th>\n",
       "      <td>4</td>\n",
       "      <td>19996</td>\n",
       "      <td>6265</td>\n",
       "      <td>26265</td>\n",
       "    </tr>\n",
       "    <tr>\n",
       "      <th>...</th>\n",
       "      <td>...</td>\n",
       "      <td>...</td>\n",
       "      <td>...</td>\n",
       "      <td>...</td>\n",
       "    </tr>\n",
       "    <tr>\n",
       "      <th>19995</th>\n",
       "      <td>19995</td>\n",
       "      <td>5</td>\n",
       "      <td>39116</td>\n",
       "      <td>59116</td>\n",
       "    </tr>\n",
       "    <tr>\n",
       "      <th>19996</th>\n",
       "      <td>19996</td>\n",
       "      <td>4</td>\n",
       "      <td>56922</td>\n",
       "      <td>76922</td>\n",
       "    </tr>\n",
       "    <tr>\n",
       "      <th>19997</th>\n",
       "      <td>19997</td>\n",
       "      <td>3</td>\n",
       "      <td>56251</td>\n",
       "      <td>76251</td>\n",
       "    </tr>\n",
       "    <tr>\n",
       "      <th>19998</th>\n",
       "      <td>19998</td>\n",
       "      <td>2</td>\n",
       "      <td>61794</td>\n",
       "      <td>81794</td>\n",
       "    </tr>\n",
       "    <tr>\n",
       "      <th>19999</th>\n",
       "      <td>19999</td>\n",
       "      <td>1</td>\n",
       "      <td>17580</td>\n",
       "      <td>37580</td>\n",
       "    </tr>\n",
       "  </tbody>\n",
       "</table>\n",
       "<p>20000 rows × 4 columns</p>\n",
       "</div>"
      ],
      "text/plain": [
       "          x1     x2     x3      y\n",
       "0          0  20000  15795  35795\n",
       "1          1  19999    860  20860\n",
       "2          2  19998  76820  96820\n",
       "3          3  19997  54886  74886\n",
       "4          4  19996   6265  26265\n",
       "...      ...    ...    ...    ...\n",
       "19995  19995      5  39116  59116\n",
       "19996  19996      4  56922  76922\n",
       "19997  19997      3  56251  76251\n",
       "19998  19998      2  61794  81794\n",
       "19999  19999      1  17580  37580\n",
       "\n",
       "[20000 rows x 4 columns]"
      ]
     },
     "execution_count": 5,
     "metadata": {},
     "output_type": "execute_result"
    }
   ],
   "source": [
    "data"
   ]
  },
  {
   "cell_type": "code",
   "execution_count": 6,
   "id": "c23d4f16-c919-4be7-9eb2-2241aed8265e",
   "metadata": {
    "tags": []
   },
   "outputs": [
    {
     "data": {
      "text/plain": [
       "((20000, 3), (20000,))"
      ]
     },
     "execution_count": 6,
     "metadata": {},
     "output_type": "execute_result"
    }
   ],
   "source": [
    "x = data.drop(columns='y').values\n",
    "y = data['y'].values\n",
    "x.shape, y.shape"
   ]
  },
  {
   "cell_type": "code",
   "execution_count": 7,
   "id": "96bcaa82-7089-4860-9866-a3ea625ad976",
   "metadata": {
    "tags": []
   },
   "outputs": [],
   "source": [
    "x_train, x_test, y_train, y_test = train_test_split(x, y, test_size=0.3, random_state=42)"
   ]
  },
  {
   "cell_type": "code",
   "execution_count": 8,
   "id": "b1e8f571-094f-42ab-85be-19c98054b2e0",
   "metadata": {
    "tags": []
   },
   "outputs": [],
   "source": [
    "model_pipeline = Pipeline(steps=[['minmax_scaler', MinMaxScaler()],\n",
    "                                  ['knn', KNNRegressor()]])"
   ]
  },
  {
   "cell_type": "code",
   "execution_count": 9,
   "id": "f0af2952-3a9b-48d9-b72e-a1eda5d21293",
   "metadata": {},
   "outputs": [],
   "source": [
    "param_grid = {'knn__k': [*range(1, 16)]}"
   ]
  },
  {
   "cell_type": "code",
   "execution_count": 10,
   "id": "727cc458-6077-40fe-9093-21bd5e55f3cb",
   "metadata": {
    "tags": []
   },
   "outputs": [],
   "source": [
    "grid_search = GridSearchCV(estimator=model_pipeline, \n",
    "                           param_grid=param_grid,\n",
    "                           scoring=\"neg_mean_squared_error\",\n",
    "                           cv=3,\n",
    "                           n_jobs=-1)"
   ]
  },
  {
   "cell_type": "code",
   "execution_count": 11,
   "id": "01c693e7-1f1b-4740-b31b-318919fd7f02",
   "metadata": {
    "tags": []
   },
   "outputs": [
    {
     "data": {
      "text/html": [
       "<style>#sk-container-id-1 {color: black;}#sk-container-id-1 pre{padding: 0;}#sk-container-id-1 div.sk-toggleable {background-color: white;}#sk-container-id-1 label.sk-toggleable__label {cursor: pointer;display: block;width: 100%;margin-bottom: 0;padding: 0.3em;box-sizing: border-box;text-align: center;}#sk-container-id-1 label.sk-toggleable__label-arrow:before {content: \"▸\";float: left;margin-right: 0.25em;color: #696969;}#sk-container-id-1 label.sk-toggleable__label-arrow:hover:before {color: black;}#sk-container-id-1 div.sk-estimator:hover label.sk-toggleable__label-arrow:before {color: black;}#sk-container-id-1 div.sk-toggleable__content {max-height: 0;max-width: 0;overflow: hidden;text-align: left;background-color: #f0f8ff;}#sk-container-id-1 div.sk-toggleable__content pre {margin: 0.2em;color: black;border-radius: 0.25em;background-color: #f0f8ff;}#sk-container-id-1 input.sk-toggleable__control:checked~div.sk-toggleable__content {max-height: 200px;max-width: 100%;overflow: auto;}#sk-container-id-1 input.sk-toggleable__control:checked~label.sk-toggleable__label-arrow:before {content: \"▾\";}#sk-container-id-1 div.sk-estimator input.sk-toggleable__control:checked~label.sk-toggleable__label {background-color: #d4ebff;}#sk-container-id-1 div.sk-label input.sk-toggleable__control:checked~label.sk-toggleable__label {background-color: #d4ebff;}#sk-container-id-1 input.sk-hidden--visually {border: 0;clip: rect(1px 1px 1px 1px);clip: rect(1px, 1px, 1px, 1px);height: 1px;margin: -1px;overflow: hidden;padding: 0;position: absolute;width: 1px;}#sk-container-id-1 div.sk-estimator {font-family: monospace;background-color: #f0f8ff;border: 1px dotted black;border-radius: 0.25em;box-sizing: border-box;margin-bottom: 0.5em;}#sk-container-id-1 div.sk-estimator:hover {background-color: #d4ebff;}#sk-container-id-1 div.sk-parallel-item::after {content: \"\";width: 100%;border-bottom: 1px solid gray;flex-grow: 1;}#sk-container-id-1 div.sk-label:hover label.sk-toggleable__label {background-color: #d4ebff;}#sk-container-id-1 div.sk-serial::before {content: \"\";position: absolute;border-left: 1px solid gray;box-sizing: border-box;top: 0;bottom: 0;left: 50%;z-index: 0;}#sk-container-id-1 div.sk-serial {display: flex;flex-direction: column;align-items: center;background-color: white;padding-right: 0.2em;padding-left: 0.2em;position: relative;}#sk-container-id-1 div.sk-item {position: relative;z-index: 1;}#sk-container-id-1 div.sk-parallel {display: flex;align-items: stretch;justify-content: center;background-color: white;position: relative;}#sk-container-id-1 div.sk-item::before, #sk-container-id-1 div.sk-parallel-item::before {content: \"\";position: absolute;border-left: 1px solid gray;box-sizing: border-box;top: 0;bottom: 0;left: 50%;z-index: -1;}#sk-container-id-1 div.sk-parallel-item {display: flex;flex-direction: column;z-index: 1;position: relative;background-color: white;}#sk-container-id-1 div.sk-parallel-item:first-child::after {align-self: flex-end;width: 50%;}#sk-container-id-1 div.sk-parallel-item:last-child::after {align-self: flex-start;width: 50%;}#sk-container-id-1 div.sk-parallel-item:only-child::after {width: 0;}#sk-container-id-1 div.sk-dashed-wrapped {border: 1px dashed gray;margin: 0 0.4em 0.5em 0.4em;box-sizing: border-box;padding-bottom: 0.4em;background-color: white;}#sk-container-id-1 div.sk-label label {font-family: monospace;font-weight: bold;display: inline-block;line-height: 1.2em;}#sk-container-id-1 div.sk-label-container {text-align: center;}#sk-container-id-1 div.sk-container {/* jupyter's `normalize.less` sets `[hidden] { display: none; }` but bootstrap.min.css set `[hidden] { display: none !important; }` so we also need the `!important` here to be able to override the default hidden behavior on the sphinx rendered scikit-learn.org. See: https://github.com/scikit-learn/scikit-learn/issues/21755 */display: inline-block !important;position: relative;}#sk-container-id-1 div.sk-text-repr-fallback {display: none;}</style><div id=\"sk-container-id-1\" class=\"sk-top-container\"><div class=\"sk-text-repr-fallback\"><pre>GridSearchCV(cv=3,\n",
       "             estimator=Pipeline(steps=[[&#x27;minmax_scaler&#x27;, MinMaxScaler()],\n",
       "                                       [&#x27;knn&#x27;, KNNRegressor()]]),\n",
       "             n_jobs=-1,\n",
       "             param_grid={&#x27;knn__k&#x27;: [1, 2, 3, 4, 5, 6, 7, 8, 9, 10, 11, 12, 13,\n",
       "                                    14, 15]},\n",
       "             scoring=&#x27;neg_mean_squared_error&#x27;)</pre><b>In a Jupyter environment, please rerun this cell to show the HTML representation or trust the notebook. <br />On GitHub, the HTML representation is unable to render, please try loading this page with nbviewer.org.</b></div><div class=\"sk-container\" hidden><div class=\"sk-item sk-dashed-wrapped\"><div class=\"sk-label-container\"><div class=\"sk-label sk-toggleable\"><input class=\"sk-toggleable__control sk-hidden--visually\" id=\"sk-estimator-id-1\" type=\"checkbox\" ><label for=\"sk-estimator-id-1\" class=\"sk-toggleable__label sk-toggleable__label-arrow\">GridSearchCV</label><div class=\"sk-toggleable__content\"><pre>GridSearchCV(cv=3,\n",
       "             estimator=Pipeline(steps=[[&#x27;minmax_scaler&#x27;, MinMaxScaler()],\n",
       "                                       [&#x27;knn&#x27;, KNNRegressor()]]),\n",
       "             n_jobs=-1,\n",
       "             param_grid={&#x27;knn__k&#x27;: [1, 2, 3, 4, 5, 6, 7, 8, 9, 10, 11, 12, 13,\n",
       "                                    14, 15]},\n",
       "             scoring=&#x27;neg_mean_squared_error&#x27;)</pre></div></div></div><div class=\"sk-parallel\"><div class=\"sk-parallel-item\"><div class=\"sk-item\"><div class=\"sk-label-container\"><div class=\"sk-label sk-toggleable\"><input class=\"sk-toggleable__control sk-hidden--visually\" id=\"sk-estimator-id-2\" type=\"checkbox\" ><label for=\"sk-estimator-id-2\" class=\"sk-toggleable__label sk-toggleable__label-arrow\">estimator: Pipeline</label><div class=\"sk-toggleable__content\"><pre>Pipeline(steps=[[&#x27;minmax_scaler&#x27;, MinMaxScaler()], [&#x27;knn&#x27;, KNNRegressor()]])</pre></div></div></div><div class=\"sk-serial\"><div class=\"sk-item\"><div class=\"sk-serial\"><div class=\"sk-item\"><div class=\"sk-estimator sk-toggleable\"><input class=\"sk-toggleable__control sk-hidden--visually\" id=\"sk-estimator-id-3\" type=\"checkbox\" ><label for=\"sk-estimator-id-3\" class=\"sk-toggleable__label sk-toggleable__label-arrow\">MinMaxScaler</label><div class=\"sk-toggleable__content\"><pre>MinMaxScaler()</pre></div></div></div><div class=\"sk-item\"><div class=\"sk-estimator sk-toggleable\"><input class=\"sk-toggleable__control sk-hidden--visually\" id=\"sk-estimator-id-4\" type=\"checkbox\" ><label for=\"sk-estimator-id-4\" class=\"sk-toggleable__label sk-toggleable__label-arrow\">KNNRegressor</label><div class=\"sk-toggleable__content\"><pre>KNNRegressor(k=3)</pre></div></div></div></div></div></div></div></div></div></div></div></div>"
      ],
      "text/plain": [
       "GridSearchCV(cv=3,\n",
       "             estimator=Pipeline(steps=[['minmax_scaler', MinMaxScaler()],\n",
       "                                       ['knn', KNNRegressor()]]),\n",
       "             n_jobs=-1,\n",
       "             param_grid={'knn__k': [1, 2, 3, 4, 5, 6, 7, 8, 9, 10, 11, 12, 13,\n",
       "                                    14, 15]},\n",
       "             scoring='neg_mean_squared_error')"
      ]
     },
     "execution_count": 11,
     "metadata": {},
     "output_type": "execute_result"
    }
   ],
   "source": [
    "grid_search.fit(x_train, y_train)"
   ]
  },
  {
   "cell_type": "code",
   "execution_count": 12,
   "id": "196b5a4c-a548-4493-b1df-a6e0e9333467",
   "metadata": {
    "tags": []
   },
   "outputs": [
    {
     "data": {
      "text/plain": [
       "{'knn__k': 8}"
      ]
     },
     "execution_count": 12,
     "metadata": {},
     "output_type": "execute_result"
    }
   ],
   "source": [
    "grid_search.best_params_"
   ]
  },
  {
   "cell_type": "code",
   "execution_count": 13,
   "id": "86004968-0bc6-4a9b-990a-a34e93d9a662",
   "metadata": {
    "tags": []
   },
   "outputs": [
    {
     "data": {
      "text/html": [
       "<div>\n",
       "<style scoped>\n",
       "    .dataframe tbody tr th:only-of-type {\n",
       "        vertical-align: middle;\n",
       "    }\n",
       "\n",
       "    .dataframe tbody tr th {\n",
       "        vertical-align: top;\n",
       "    }\n",
       "\n",
       "    .dataframe thead th {\n",
       "        text-align: right;\n",
       "    }\n",
       "</style>\n",
       "<table border=\"1\" class=\"dataframe\">\n",
       "  <thead>\n",
       "    <tr style=\"text-align: right;\">\n",
       "      <th></th>\n",
       "      <th>mean_fit_time</th>\n",
       "      <th>std_fit_time</th>\n",
       "      <th>mean_score_time</th>\n",
       "      <th>std_score_time</th>\n",
       "      <th>param_knn__k</th>\n",
       "      <th>params</th>\n",
       "      <th>split0_test_score</th>\n",
       "      <th>split1_test_score</th>\n",
       "      <th>split2_test_score</th>\n",
       "      <th>mean_test_score</th>\n",
       "      <th>std_test_score</th>\n",
       "      <th>rank_test_score</th>\n",
       "    </tr>\n",
       "  </thead>\n",
       "  <tbody>\n",
       "    <tr>\n",
       "      <th>0</th>\n",
       "      <td>0.010414</td>\n",
       "      <td>0.007364</td>\n",
       "      <td>6.204118</td>\n",
       "      <td>0.099706</td>\n",
       "      <td>1</td>\n",
       "      <td>{'knn__k': 1}</td>\n",
       "      <td>-246974.818084</td>\n",
       "      <td>-236081.288408</td>\n",
       "      <td>-239412.980069</td>\n",
       "      <td>-240823.028854</td>\n",
       "      <td>4557.662075</td>\n",
       "      <td>15</td>\n",
       "    </tr>\n",
       "    <tr>\n",
       "      <th>1</th>\n",
       "      <td>0.010414</td>\n",
       "      <td>0.007364</td>\n",
       "      <td>6.301046</td>\n",
       "      <td>0.127996</td>\n",
       "      <td>2</td>\n",
       "      <td>{'knn__k': 2}</td>\n",
       "      <td>-187212.876527</td>\n",
       "      <td>-183631.516606</td>\n",
       "      <td>-181573.385555</td>\n",
       "      <td>-184139.259563</td>\n",
       "      <td>2330.138306</td>\n",
       "      <td>14</td>\n",
       "    </tr>\n",
       "    <tr>\n",
       "      <th>2</th>\n",
       "      <td>0.001224</td>\n",
       "      <td>0.001730</td>\n",
       "      <td>6.218052</td>\n",
       "      <td>0.158233</td>\n",
       "      <td>3</td>\n",
       "      <td>{'knn__k': 3}</td>\n",
       "      <td>-173244.440421</td>\n",
       "      <td>-176900.863938</td>\n",
       "      <td>-162098.102467</td>\n",
       "      <td>-170747.802275</td>\n",
       "      <td>6295.783685</td>\n",
       "      <td>11</td>\n",
       "    </tr>\n",
       "    <tr>\n",
       "      <th>3</th>\n",
       "      <td>0.003657</td>\n",
       "      <td>0.000470</td>\n",
       "      <td>6.069857</td>\n",
       "      <td>0.026348</td>\n",
       "      <td>4</td>\n",
       "      <td>{'knn__k': 4}</td>\n",
       "      <td>-163891.992380</td>\n",
       "      <td>-167971.507888</td>\n",
       "      <td>-157048.977925</td>\n",
       "      <td>-162970.826064</td>\n",
       "      <td>4506.426946</td>\n",
       "      <td>8</td>\n",
       "    </tr>\n",
       "    <tr>\n",
       "      <th>4</th>\n",
       "      <td>0.005538</td>\n",
       "      <td>0.002924</td>\n",
       "      <td>6.926268</td>\n",
       "      <td>0.049730</td>\n",
       "      <td>5</td>\n",
       "      <td>{'knn__k': 5}</td>\n",
       "      <td>-160783.389792</td>\n",
       "      <td>-160941.856807</td>\n",
       "      <td>-151146.833596</td>\n",
       "      <td>-157624.026732</td>\n",
       "      <td>4580.524070</td>\n",
       "      <td>5</td>\n",
       "    </tr>\n",
       "    <tr>\n",
       "      <th>5</th>\n",
       "      <td>0.001330</td>\n",
       "      <td>0.001881</td>\n",
       "      <td>6.356477</td>\n",
       "      <td>0.393563</td>\n",
       "      <td>6</td>\n",
       "      <td>{'knn__k': 6}</td>\n",
       "      <td>-158397.183505</td>\n",
       "      <td>-158968.898591</td>\n",
       "      <td>-149245.219650</td>\n",
       "      <td>-155537.100582</td>\n",
       "      <td>4455.149738</td>\n",
       "      <td>3</td>\n",
       "    </tr>\n",
       "    <tr>\n",
       "      <th>6</th>\n",
       "      <td>0.000000</td>\n",
       "      <td>0.000000</td>\n",
       "      <td>6.148160</td>\n",
       "      <td>0.065162</td>\n",
       "      <td>7</td>\n",
       "      <td>{'knn__k': 7}</td>\n",
       "      <td>-161396.034458</td>\n",
       "      <td>-158681.655523</td>\n",
       "      <td>-151202.741521</td>\n",
       "      <td>-157093.477168</td>\n",
       "      <td>4310.262025</td>\n",
       "      <td>4</td>\n",
       "    </tr>\n",
       "    <tr>\n",
       "      <th>7</th>\n",
       "      <td>0.011729</td>\n",
       "      <td>0.005506</td>\n",
       "      <td>6.255254</td>\n",
       "      <td>0.017485</td>\n",
       "      <td>8</td>\n",
       "      <td>{'knn__k': 8}</td>\n",
       "      <td>-156323.227706</td>\n",
       "      <td>-157880.113158</td>\n",
       "      <td>-152253.634236</td>\n",
       "      <td>-155485.658367</td>\n",
       "      <td>2372.123952</td>\n",
       "      <td>1</td>\n",
       "    </tr>\n",
       "    <tr>\n",
       "      <th>8</th>\n",
       "      <td>0.003529</td>\n",
       "      <td>0.000485</td>\n",
       "      <td>6.626652</td>\n",
       "      <td>0.484011</td>\n",
       "      <td>9</td>\n",
       "      <td>{'knn__k': 9}</td>\n",
       "      <td>-152570.589786</td>\n",
       "      <td>-158932.359112</td>\n",
       "      <td>-155105.020119</td>\n",
       "      <td>-155535.989672</td>\n",
       "      <td>2614.998828</td>\n",
       "      <td>2</td>\n",
       "    </tr>\n",
       "    <tr>\n",
       "      <th>9</th>\n",
       "      <td>0.006380</td>\n",
       "      <td>0.006904</td>\n",
       "      <td>7.167558</td>\n",
       "      <td>0.592083</td>\n",
       "      <td>10</td>\n",
       "      <td>{'knn__k': 10}</td>\n",
       "      <td>-156600.263407</td>\n",
       "      <td>-162552.815590</td>\n",
       "      <td>-156013.732015</td>\n",
       "      <td>-158388.937004</td>\n",
       "      <td>2954.027582</td>\n",
       "      <td>6</td>\n",
       "    </tr>\n",
       "    <tr>\n",
       "      <th>10</th>\n",
       "      <td>0.008253</td>\n",
       "      <td>0.005231</td>\n",
       "      <td>6.694769</td>\n",
       "      <td>0.563181</td>\n",
       "      <td>11</td>\n",
       "      <td>{'knn__k': 11}</td>\n",
       "      <td>-161813.205223</td>\n",
       "      <td>-166611.234681</td>\n",
       "      <td>-158681.555049</td>\n",
       "      <td>-162368.664984</td>\n",
       "      <td>3261.017881</td>\n",
       "      <td>7</td>\n",
       "    </tr>\n",
       "    <tr>\n",
       "      <th>11</th>\n",
       "      <td>0.006730</td>\n",
       "      <td>0.006893</td>\n",
       "      <td>6.384134</td>\n",
       "      <td>0.163171</td>\n",
       "      <td>12</td>\n",
       "      <td>{'knn__k': 12}</td>\n",
       "      <td>-167328.074758</td>\n",
       "      <td>-168355.901632</td>\n",
       "      <td>-160338.251907</td>\n",
       "      <td>-165340.742766</td>\n",
       "      <td>3562.096117</td>\n",
       "      <td>9</td>\n",
       "    </tr>\n",
       "    <tr>\n",
       "      <th>12</th>\n",
       "      <td>0.007925</td>\n",
       "      <td>0.005443</td>\n",
       "      <td>6.285010</td>\n",
       "      <td>0.056575</td>\n",
       "      <td>13</td>\n",
       "      <td>{'knn__k': 13}</td>\n",
       "      <td>-171379.810104</td>\n",
       "      <td>-171433.045721</td>\n",
       "      <td>-163994.682719</td>\n",
       "      <td>-168935.846181</td>\n",
       "      <td>3493.997785</td>\n",
       "      <td>10</td>\n",
       "    </tr>\n",
       "    <tr>\n",
       "      <th>13</th>\n",
       "      <td>0.001330</td>\n",
       "      <td>0.001880</td>\n",
       "      <td>5.918569</td>\n",
       "      <td>0.369730</td>\n",
       "      <td>14</td>\n",
       "      <td>{'knn__k': 14}</td>\n",
       "      <td>-177298.139196</td>\n",
       "      <td>-175416.181625</td>\n",
       "      <td>-166428.929364</td>\n",
       "      <td>-173047.750062</td>\n",
       "      <td>4742.856498</td>\n",
       "      <td>12</td>\n",
       "    </tr>\n",
       "    <tr>\n",
       "      <th>14</th>\n",
       "      <td>0.006207</td>\n",
       "      <td>0.006773</td>\n",
       "      <td>5.318361</td>\n",
       "      <td>0.217447</td>\n",
       "      <td>15</td>\n",
       "      <td>{'knn__k': 15}</td>\n",
       "      <td>-181508.722314</td>\n",
       "      <td>-180127.570408</td>\n",
       "      <td>-169756.548892</td>\n",
       "      <td>-177130.947205</td>\n",
       "      <td>5244.883730</td>\n",
       "      <td>13</td>\n",
       "    </tr>\n",
       "  </tbody>\n",
       "</table>\n",
       "</div>"
      ],
      "text/plain": [
       "    mean_fit_time  std_fit_time  mean_score_time  std_score_time param_knn__k  \\\n",
       "0        0.010414      0.007364         6.204118        0.099706            1   \n",
       "1        0.010414      0.007364         6.301046        0.127996            2   \n",
       "2        0.001224      0.001730         6.218052        0.158233            3   \n",
       "3        0.003657      0.000470         6.069857        0.026348            4   \n",
       "4        0.005538      0.002924         6.926268        0.049730            5   \n",
       "5        0.001330      0.001881         6.356477        0.393563            6   \n",
       "6        0.000000      0.000000         6.148160        0.065162            7   \n",
       "7        0.011729      0.005506         6.255254        0.017485            8   \n",
       "8        0.003529      0.000485         6.626652        0.484011            9   \n",
       "9        0.006380      0.006904         7.167558        0.592083           10   \n",
       "10       0.008253      0.005231         6.694769        0.563181           11   \n",
       "11       0.006730      0.006893         6.384134        0.163171           12   \n",
       "12       0.007925      0.005443         6.285010        0.056575           13   \n",
       "13       0.001330      0.001880         5.918569        0.369730           14   \n",
       "14       0.006207      0.006773         5.318361        0.217447           15   \n",
       "\n",
       "            params  split0_test_score  split1_test_score  split2_test_score  \\\n",
       "0    {'knn__k': 1}     -246974.818084     -236081.288408     -239412.980069   \n",
       "1    {'knn__k': 2}     -187212.876527     -183631.516606     -181573.385555   \n",
       "2    {'knn__k': 3}     -173244.440421     -176900.863938     -162098.102467   \n",
       "3    {'knn__k': 4}     -163891.992380     -167971.507888     -157048.977925   \n",
       "4    {'knn__k': 5}     -160783.389792     -160941.856807     -151146.833596   \n",
       "5    {'knn__k': 6}     -158397.183505     -158968.898591     -149245.219650   \n",
       "6    {'knn__k': 7}     -161396.034458     -158681.655523     -151202.741521   \n",
       "7    {'knn__k': 8}     -156323.227706     -157880.113158     -152253.634236   \n",
       "8    {'knn__k': 9}     -152570.589786     -158932.359112     -155105.020119   \n",
       "9   {'knn__k': 10}     -156600.263407     -162552.815590     -156013.732015   \n",
       "10  {'knn__k': 11}     -161813.205223     -166611.234681     -158681.555049   \n",
       "11  {'knn__k': 12}     -167328.074758     -168355.901632     -160338.251907   \n",
       "12  {'knn__k': 13}     -171379.810104     -171433.045721     -163994.682719   \n",
       "13  {'knn__k': 14}     -177298.139196     -175416.181625     -166428.929364   \n",
       "14  {'knn__k': 15}     -181508.722314     -180127.570408     -169756.548892   \n",
       "\n",
       "    mean_test_score  std_test_score  rank_test_score  \n",
       "0    -240823.028854     4557.662075               15  \n",
       "1    -184139.259563     2330.138306               14  \n",
       "2    -170747.802275     6295.783685               11  \n",
       "3    -162970.826064     4506.426946                8  \n",
       "4    -157624.026732     4580.524070                5  \n",
       "5    -155537.100582     4455.149738                3  \n",
       "6    -157093.477168     4310.262025                4  \n",
       "7    -155485.658367     2372.123952                1  \n",
       "8    -155535.989672     2614.998828                2  \n",
       "9    -158388.937004     2954.027582                6  \n",
       "10   -162368.664984     3261.017881                7  \n",
       "11   -165340.742766     3562.096117                9  \n",
       "12   -168935.846181     3493.997785               10  \n",
       "13   -173047.750062     4742.856498               12  \n",
       "14   -177130.947205     5244.883730               13  "
      ]
     },
     "execution_count": 13,
     "metadata": {},
     "output_type": "execute_result"
    }
   ],
   "source": [
    "pd.DataFrame(grid_search.cv_results_)"
   ]
  },
  {
   "cell_type": "code",
   "execution_count": 14,
   "id": "9cffa77e-3080-4f6c-a49e-4b35df58ac53",
   "metadata": {
    "tags": []
   },
   "outputs": [],
   "source": [
    "pred = grid_search.predict(x_test)"
   ]
  },
  {
   "cell_type": "code",
   "execution_count": 15,
   "id": "03097993-22e1-4451-a0e4-27107c3ccd58",
   "metadata": {
    "tags": []
   },
   "outputs": [
    {
     "data": {
      "text/plain": [
       "317.54669349889843"
      ]
     },
     "execution_count": 15,
     "metadata": {},
     "output_type": "execute_result"
    }
   ],
   "source": [
    "# Test RMSE\n",
    "np.sqrt(mean_squared_error(y_test, pred))"
   ]
  },
  {
   "cell_type": "code",
   "execution_count": 16,
   "id": "97abac41-b27f-405b-b13a-b3e59d25e96e",
   "metadata": {
    "tags": []
   },
   "outputs": [
    {
     "data": {
      "text/plain": [
       "69498.81383333333"
      ]
     },
     "execution_count": 16,
     "metadata": {},
     "output_type": "execute_result"
    }
   ],
   "source": [
    "y_test.mean()"
   ]
  }
 ],
 "metadata": {
  "kernelspec": {
   "display_name": "Python 3 (ipykernel)",
   "language": "python",
   "name": "python3"
  },
  "language_info": {
   "codemirror_mode": {
    "name": "ipython",
    "version": 3
   },
   "file_extension": ".py",
   "mimetype": "text/x-python",
   "name": "python",
   "nbconvert_exporter": "python",
   "pygments_lexer": "ipython3",
   "version": "3.11.4"
  }
 },
 "nbformat": 4,
 "nbformat_minor": 5
}
