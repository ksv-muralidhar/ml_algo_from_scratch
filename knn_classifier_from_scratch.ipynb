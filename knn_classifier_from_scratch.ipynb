{
 "cells": [
  {
   "cell_type": "code",
   "execution_count": 1,
   "id": "f3201021-b61c-490e-a341-53162fbe99af",
   "metadata": {
    "tags": []
   },
   "outputs": [],
   "source": [
    "import numpy as np\n",
    "from collections import Counter\n",
    "from sklearn.base import BaseEstimator, TransformerMixin"
   ]
  },
  {
   "cell_type": "code",
   "execution_count": 2,
   "id": "9a8f34fb-a038-477d-b73d-e3a4f6b71cf2",
   "metadata": {
    "tags": []
   },
   "outputs": [],
   "source": [
    "# Inheriting BaseEstimator & TransformerMixin to make the class compatible with sklearn components\n",
    "class KNNClassifier(BaseEstimator, TransformerMixin): \n",
    "    '''\n",
    "    KNN classifier built from scratch\n",
    "    \n",
    "    Params:\n",
    "     k (int): number of clusters\n",
    "    '''\n",
    "    def __init__(self, k: int=3):\n",
    "        self.k = k\n",
    "        self.x = None\n",
    "        self.y = None\n",
    "    \n",
    "    \n",
    "    @staticmethod\n",
    "    def __euclidean_distance(x1, x2):\n",
    "        '''\n",
    "        Compute euclidean distance between arrays x1 and x2\n",
    "        '''\n",
    "        return np.sqrt(np.sum((x1 - x2) ** 2, axis=1))\n",
    "\n",
    "    \n",
    "    def fit(self, x: np.array, y: np.array):\n",
    "        '''\n",
    "        Stores x and y\n",
    "        \n",
    "        Params:\n",
    "         x (numpy.array): Input features\n",
    "         y (numpy.array): labels, strictly [0, n-1] (both inclusive)\n",
    "        '''\n",
    "        self.x = x\n",
    "        self.y = y\n",
    "        return self\n",
    "    \n",
    "    \n",
    "    def predict(self, x: np.array):\n",
    "        '''\n",
    "        Prediction function\n",
    "        \n",
    "        Params:\n",
    "         x (numpy.array): Input features for prediction\n",
    "         \n",
    "        Returns: \n",
    "         numpy.array: predicted labels\n",
    "        \n",
    "        '''\n",
    "        # 1. computing euclidean distance between each sample in test set and training set\n",
    "        # 2. Arg sorting the distances such that sample indices with lowest distance come first\n",
    "        # 3. Selecting top 'k' sample indices\n",
    "        # 4. Selecting labels of top 'k' sample indices\n",
    "        # 5. sorting the labels such that in case of a tie, the first prediction is returned based on alphabetical order of label as in sklearn\n",
    "        # 6. Using Counter to get the counts of labels\n",
    "        # 7. Finding the most common label and extracting it\n",
    "        pred = [Counter(sorted(self.y[np.argsort(self.__euclidean_distance(sample, self.x))[:self.k]])).most_common(1)[0][0] for sample in x]\n",
    "        return pred\n",
    "    \n",
    "    \n",
    "    def __repr__(self):\n",
    "        return f\"KNNClassifier(k={self.k})\""
   ]
  },
  {
   "cell_type": "code",
   "execution_count": 3,
   "id": "07928a0d-5be1-4fef-b21b-a59e3510555d",
   "metadata": {
    "tags": []
   },
   "outputs": [],
   "source": [
    "import pandas as pd\n",
    "from sklearn.datasets import load_iris\n",
    "from sklearn.preprocessing import MinMaxScaler\n",
    "from sklearn.model_selection import train_test_split\n",
    "from sklearn.metrics import accuracy_score\n",
    "from sklearn.pipeline import Pipeline\n",
    "from sklearn.model_selection import GridSearchCV"
   ]
  },
  {
   "cell_type": "code",
   "execution_count": 4,
   "id": "040704c9-1b65-4308-a35a-c83a0b79b727",
   "metadata": {
    "tags": []
   },
   "outputs": [],
   "source": [
    "data = load_iris()"
   ]
  },
  {
   "cell_type": "code",
   "execution_count": 5,
   "id": "c8ca6ea3-98d9-45c3-a6b8-ec11cec9f947",
   "metadata": {
    "tags": []
   },
   "outputs": [],
   "source": [
    "x = data['data']\n",
    "y = data['target']"
   ]
  },
  {
   "cell_type": "code",
   "execution_count": 6,
   "id": "61071f30-9947-4076-ada5-97bddc458f04",
   "metadata": {
    "tags": []
   },
   "outputs": [],
   "source": [
    "x_train, x_test, y_train, y_test = train_test_split(x, y, test_size=0.2, random_state=42, stratify=y)"
   ]
  },
  {
   "cell_type": "code",
   "execution_count": 7,
   "id": "63410895-2f4b-4150-97ec-fb0da235ab36",
   "metadata": {
    "tags": []
   },
   "outputs": [],
   "source": [
    "model_pipeline = Pipeline(steps=[['minmax_scaler', MinMaxScaler()],\n",
    "                                  ['knn', KNNClassifier()]])"
   ]
  },
  {
   "cell_type": "code",
   "execution_count": 8,
   "id": "631cadfd-12a8-40de-8d6a-0fcd16f9206c",
   "metadata": {},
   "outputs": [],
   "source": [
    "param_grid = {'knn__k': [*range(1, 16, 2)]}"
   ]
  },
  {
   "cell_type": "code",
   "execution_count": 9,
   "id": "4b7290d4-bbbf-4c53-b0af-6edd6a41fe0f",
   "metadata": {
    "tags": []
   },
   "outputs": [],
   "source": [
    "grid_search = GridSearchCV(estimator=model_pipeline, \n",
    "                           param_grid=param_grid,\n",
    "                           scoring=\"accuracy\",\n",
    "                           cv=3)"
   ]
  },
  {
   "cell_type": "code",
   "execution_count": 10,
   "id": "5cad8c30-b55e-4c9a-a5ca-da237c88dbbd",
   "metadata": {
    "tags": []
   },
   "outputs": [
    {
     "data": {
      "text/html": [
       "<style>#sk-container-id-1 {color: black;}#sk-container-id-1 pre{padding: 0;}#sk-container-id-1 div.sk-toggleable {background-color: white;}#sk-container-id-1 label.sk-toggleable__label {cursor: pointer;display: block;width: 100%;margin-bottom: 0;padding: 0.3em;box-sizing: border-box;text-align: center;}#sk-container-id-1 label.sk-toggleable__label-arrow:before {content: \"▸\";float: left;margin-right: 0.25em;color: #696969;}#sk-container-id-1 label.sk-toggleable__label-arrow:hover:before {color: black;}#sk-container-id-1 div.sk-estimator:hover label.sk-toggleable__label-arrow:before {color: black;}#sk-container-id-1 div.sk-toggleable__content {max-height: 0;max-width: 0;overflow: hidden;text-align: left;background-color: #f0f8ff;}#sk-container-id-1 div.sk-toggleable__content pre {margin: 0.2em;color: black;border-radius: 0.25em;background-color: #f0f8ff;}#sk-container-id-1 input.sk-toggleable__control:checked~div.sk-toggleable__content {max-height: 200px;max-width: 100%;overflow: auto;}#sk-container-id-1 input.sk-toggleable__control:checked~label.sk-toggleable__label-arrow:before {content: \"▾\";}#sk-container-id-1 div.sk-estimator input.sk-toggleable__control:checked~label.sk-toggleable__label {background-color: #d4ebff;}#sk-container-id-1 div.sk-label input.sk-toggleable__control:checked~label.sk-toggleable__label {background-color: #d4ebff;}#sk-container-id-1 input.sk-hidden--visually {border: 0;clip: rect(1px 1px 1px 1px);clip: rect(1px, 1px, 1px, 1px);height: 1px;margin: -1px;overflow: hidden;padding: 0;position: absolute;width: 1px;}#sk-container-id-1 div.sk-estimator {font-family: monospace;background-color: #f0f8ff;border: 1px dotted black;border-radius: 0.25em;box-sizing: border-box;margin-bottom: 0.5em;}#sk-container-id-1 div.sk-estimator:hover {background-color: #d4ebff;}#sk-container-id-1 div.sk-parallel-item::after {content: \"\";width: 100%;border-bottom: 1px solid gray;flex-grow: 1;}#sk-container-id-1 div.sk-label:hover label.sk-toggleable__label {background-color: #d4ebff;}#sk-container-id-1 div.sk-serial::before {content: \"\";position: absolute;border-left: 1px solid gray;box-sizing: border-box;top: 0;bottom: 0;left: 50%;z-index: 0;}#sk-container-id-1 div.sk-serial {display: flex;flex-direction: column;align-items: center;background-color: white;padding-right: 0.2em;padding-left: 0.2em;position: relative;}#sk-container-id-1 div.sk-item {position: relative;z-index: 1;}#sk-container-id-1 div.sk-parallel {display: flex;align-items: stretch;justify-content: center;background-color: white;position: relative;}#sk-container-id-1 div.sk-item::before, #sk-container-id-1 div.sk-parallel-item::before {content: \"\";position: absolute;border-left: 1px solid gray;box-sizing: border-box;top: 0;bottom: 0;left: 50%;z-index: -1;}#sk-container-id-1 div.sk-parallel-item {display: flex;flex-direction: column;z-index: 1;position: relative;background-color: white;}#sk-container-id-1 div.sk-parallel-item:first-child::after {align-self: flex-end;width: 50%;}#sk-container-id-1 div.sk-parallel-item:last-child::after {align-self: flex-start;width: 50%;}#sk-container-id-1 div.sk-parallel-item:only-child::after {width: 0;}#sk-container-id-1 div.sk-dashed-wrapped {border: 1px dashed gray;margin: 0 0.4em 0.5em 0.4em;box-sizing: border-box;padding-bottom: 0.4em;background-color: white;}#sk-container-id-1 div.sk-label label {font-family: monospace;font-weight: bold;display: inline-block;line-height: 1.2em;}#sk-container-id-1 div.sk-label-container {text-align: center;}#sk-container-id-1 div.sk-container {/* jupyter's `normalize.less` sets `[hidden] { display: none; }` but bootstrap.min.css set `[hidden] { display: none !important; }` so we also need the `!important` here to be able to override the default hidden behavior on the sphinx rendered scikit-learn.org. See: https://github.com/scikit-learn/scikit-learn/issues/21755 */display: inline-block !important;position: relative;}#sk-container-id-1 div.sk-text-repr-fallback {display: none;}</style><div id=\"sk-container-id-1\" class=\"sk-top-container\"><div class=\"sk-text-repr-fallback\"><pre>GridSearchCV(cv=3,\n",
       "             estimator=Pipeline(steps=[[&#x27;minmax_scaler&#x27;, MinMaxScaler()],\n",
       "                                       [&#x27;knn&#x27;, KNNClassifier()]]),\n",
       "             param_grid={&#x27;knn__k&#x27;: [1, 3, 5, 7, 9, 11, 13, 15]},\n",
       "             scoring=&#x27;accuracy&#x27;)</pre><b>In a Jupyter environment, please rerun this cell to show the HTML representation or trust the notebook. <br />On GitHub, the HTML representation is unable to render, please try loading this page with nbviewer.org.</b></div><div class=\"sk-container\" hidden><div class=\"sk-item sk-dashed-wrapped\"><div class=\"sk-label-container\"><div class=\"sk-label sk-toggleable\"><input class=\"sk-toggleable__control sk-hidden--visually\" id=\"sk-estimator-id-1\" type=\"checkbox\" ><label for=\"sk-estimator-id-1\" class=\"sk-toggleable__label sk-toggleable__label-arrow\">GridSearchCV</label><div class=\"sk-toggleable__content\"><pre>GridSearchCV(cv=3,\n",
       "             estimator=Pipeline(steps=[[&#x27;minmax_scaler&#x27;, MinMaxScaler()],\n",
       "                                       [&#x27;knn&#x27;, KNNClassifier()]]),\n",
       "             param_grid={&#x27;knn__k&#x27;: [1, 3, 5, 7, 9, 11, 13, 15]},\n",
       "             scoring=&#x27;accuracy&#x27;)</pre></div></div></div><div class=\"sk-parallel\"><div class=\"sk-parallel-item\"><div class=\"sk-item\"><div class=\"sk-label-container\"><div class=\"sk-label sk-toggleable\"><input class=\"sk-toggleable__control sk-hidden--visually\" id=\"sk-estimator-id-2\" type=\"checkbox\" ><label for=\"sk-estimator-id-2\" class=\"sk-toggleable__label sk-toggleable__label-arrow\">estimator: Pipeline</label><div class=\"sk-toggleable__content\"><pre>Pipeline(steps=[[&#x27;minmax_scaler&#x27;, MinMaxScaler()], [&#x27;knn&#x27;, KNNClassifier()]])</pre></div></div></div><div class=\"sk-serial\"><div class=\"sk-item\"><div class=\"sk-serial\"><div class=\"sk-item\"><div class=\"sk-estimator sk-toggleable\"><input class=\"sk-toggleable__control sk-hidden--visually\" id=\"sk-estimator-id-3\" type=\"checkbox\" ><label for=\"sk-estimator-id-3\" class=\"sk-toggleable__label sk-toggleable__label-arrow\">MinMaxScaler</label><div class=\"sk-toggleable__content\"><pre>MinMaxScaler()</pre></div></div></div><div class=\"sk-item\"><div class=\"sk-estimator sk-toggleable\"><input class=\"sk-toggleable__control sk-hidden--visually\" id=\"sk-estimator-id-4\" type=\"checkbox\" ><label for=\"sk-estimator-id-4\" class=\"sk-toggleable__label sk-toggleable__label-arrow\">KNNClassifier</label><div class=\"sk-toggleable__content\"><pre>KNNClassifier(k=3)</pre></div></div></div></div></div></div></div></div></div></div></div></div>"
      ],
      "text/plain": [
       "GridSearchCV(cv=3,\n",
       "             estimator=Pipeline(steps=[['minmax_scaler', MinMaxScaler()],\n",
       "                                       ['knn', KNNClassifier()]]),\n",
       "             param_grid={'knn__k': [1, 3, 5, 7, 9, 11, 13, 15]},\n",
       "             scoring='accuracy')"
      ]
     },
     "execution_count": 10,
     "metadata": {},
     "output_type": "execute_result"
    }
   ],
   "source": [
    "grid_search.fit(x_train, y_train)"
   ]
  },
  {
   "cell_type": "code",
   "execution_count": 11,
   "id": "c5cacc56-cdb2-4b6f-adcc-1ae29c9cb527",
   "metadata": {
    "tags": []
   },
   "outputs": [
    {
     "data": {
      "text/plain": [
       "{'knn__k': 5}"
      ]
     },
     "execution_count": 11,
     "metadata": {},
     "output_type": "execute_result"
    }
   ],
   "source": [
    "grid_search.best_params_"
   ]
  },
  {
   "cell_type": "code",
   "execution_count": 12,
   "id": "b2df6a55-d6f6-41ab-bf58-aa1116220cfc",
   "metadata": {
    "tags": []
   },
   "outputs": [
    {
     "data": {
      "text/html": [
       "<div>\n",
       "<style scoped>\n",
       "    .dataframe tbody tr th:only-of-type {\n",
       "        vertical-align: middle;\n",
       "    }\n",
       "\n",
       "    .dataframe tbody tr th {\n",
       "        vertical-align: top;\n",
       "    }\n",
       "\n",
       "    .dataframe thead th {\n",
       "        text-align: right;\n",
       "    }\n",
       "</style>\n",
       "<table border=\"1\" class=\"dataframe\">\n",
       "  <thead>\n",
       "    <tr style=\"text-align: right;\">\n",
       "      <th></th>\n",
       "      <th>mean_fit_time</th>\n",
       "      <th>std_fit_time</th>\n",
       "      <th>mean_score_time</th>\n",
       "      <th>std_score_time</th>\n",
       "      <th>param_knn__k</th>\n",
       "      <th>params</th>\n",
       "      <th>split0_test_score</th>\n",
       "      <th>split1_test_score</th>\n",
       "      <th>split2_test_score</th>\n",
       "      <th>mean_test_score</th>\n",
       "      <th>std_test_score</th>\n",
       "      <th>rank_test_score</th>\n",
       "    </tr>\n",
       "  </thead>\n",
       "  <tbody>\n",
       "    <tr>\n",
       "      <th>0</th>\n",
       "      <td>0.000992</td>\n",
       "      <td>0.001403</td>\n",
       "      <td>0.002306</td>\n",
       "      <td>0.000464</td>\n",
       "      <td>1</td>\n",
       "      <td>{'knn__k': 1}</td>\n",
       "      <td>0.925</td>\n",
       "      <td>0.925</td>\n",
       "      <td>0.975</td>\n",
       "      <td>0.941667</td>\n",
       "      <td>0.023570</td>\n",
       "      <td>8</td>\n",
       "    </tr>\n",
       "    <tr>\n",
       "      <th>1</th>\n",
       "      <td>0.000535</td>\n",
       "      <td>0.000422</td>\n",
       "      <td>0.000321</td>\n",
       "      <td>0.000454</td>\n",
       "      <td>3</td>\n",
       "      <td>{'knn__k': 3}</td>\n",
       "      <td>0.950</td>\n",
       "      <td>0.950</td>\n",
       "      <td>0.975</td>\n",
       "      <td>0.958333</td>\n",
       "      <td>0.011785</td>\n",
       "      <td>3</td>\n",
       "    </tr>\n",
       "    <tr>\n",
       "      <th>2</th>\n",
       "      <td>0.001958</td>\n",
       "      <td>0.002104</td>\n",
       "      <td>0.001331</td>\n",
       "      <td>0.000445</td>\n",
       "      <td>5</td>\n",
       "      <td>{'knn__k': 5}</td>\n",
       "      <td>0.975</td>\n",
       "      <td>0.950</td>\n",
       "      <td>1.000</td>\n",
       "      <td>0.975000</td>\n",
       "      <td>0.020412</td>\n",
       "      <td>1</td>\n",
       "    </tr>\n",
       "    <tr>\n",
       "      <th>3</th>\n",
       "      <td>0.000000</td>\n",
       "      <td>0.000000</td>\n",
       "      <td>0.000525</td>\n",
       "      <td>0.000742</td>\n",
       "      <td>7</td>\n",
       "      <td>{'knn__k': 7}</td>\n",
       "      <td>0.925</td>\n",
       "      <td>0.950</td>\n",
       "      <td>1.000</td>\n",
       "      <td>0.958333</td>\n",
       "      <td>0.031180</td>\n",
       "      <td>3</td>\n",
       "    </tr>\n",
       "    <tr>\n",
       "      <th>4</th>\n",
       "      <td>0.000341</td>\n",
       "      <td>0.000483</td>\n",
       "      <td>0.003703</td>\n",
       "      <td>0.004568</td>\n",
       "      <td>9</td>\n",
       "      <td>{'knn__k': 9}</td>\n",
       "      <td>0.925</td>\n",
       "      <td>0.950</td>\n",
       "      <td>0.975</td>\n",
       "      <td>0.950000</td>\n",
       "      <td>0.020412</td>\n",
       "      <td>5</td>\n",
       "    </tr>\n",
       "    <tr>\n",
       "      <th>5</th>\n",
       "      <td>0.000666</td>\n",
       "      <td>0.000471</td>\n",
       "      <td>0.000994</td>\n",
       "      <td>0.000003</td>\n",
       "      <td>11</td>\n",
       "      <td>{'knn__k': 11}</td>\n",
       "      <td>0.925</td>\n",
       "      <td>0.950</td>\n",
       "      <td>0.975</td>\n",
       "      <td>0.950000</td>\n",
       "      <td>0.020412</td>\n",
       "      <td>5</td>\n",
       "    </tr>\n",
       "    <tr>\n",
       "      <th>6</th>\n",
       "      <td>0.000000</td>\n",
       "      <td>0.000000</td>\n",
       "      <td>0.001610</td>\n",
       "      <td>0.000437</td>\n",
       "      <td>13</td>\n",
       "      <td>{'knn__k': 13}</td>\n",
       "      <td>0.925</td>\n",
       "      <td>0.950</td>\n",
       "      <td>0.975</td>\n",
       "      <td>0.950000</td>\n",
       "      <td>0.020412</td>\n",
       "      <td>5</td>\n",
       "    </tr>\n",
       "    <tr>\n",
       "      <th>7</th>\n",
       "      <td>0.000691</td>\n",
       "      <td>0.000490</td>\n",
       "      <td>0.000997</td>\n",
       "      <td>0.000006</td>\n",
       "      <td>15</td>\n",
       "      <td>{'knn__k': 15}</td>\n",
       "      <td>0.950</td>\n",
       "      <td>0.975</td>\n",
       "      <td>1.000</td>\n",
       "      <td>0.975000</td>\n",
       "      <td>0.020412</td>\n",
       "      <td>1</td>\n",
       "    </tr>\n",
       "  </tbody>\n",
       "</table>\n",
       "</div>"
      ],
      "text/plain": [
       "   mean_fit_time  std_fit_time  mean_score_time  std_score_time param_knn__k  \\\n",
       "0       0.000992      0.001403         0.002306        0.000464            1   \n",
       "1       0.000535      0.000422         0.000321        0.000454            3   \n",
       "2       0.001958      0.002104         0.001331        0.000445            5   \n",
       "3       0.000000      0.000000         0.000525        0.000742            7   \n",
       "4       0.000341      0.000483         0.003703        0.004568            9   \n",
       "5       0.000666      0.000471         0.000994        0.000003           11   \n",
       "6       0.000000      0.000000         0.001610        0.000437           13   \n",
       "7       0.000691      0.000490         0.000997        0.000006           15   \n",
       "\n",
       "           params  split0_test_score  split1_test_score  split2_test_score  \\\n",
       "0   {'knn__k': 1}              0.925              0.925              0.975   \n",
       "1   {'knn__k': 3}              0.950              0.950              0.975   \n",
       "2   {'knn__k': 5}              0.975              0.950              1.000   \n",
       "3   {'knn__k': 7}              0.925              0.950              1.000   \n",
       "4   {'knn__k': 9}              0.925              0.950              0.975   \n",
       "5  {'knn__k': 11}              0.925              0.950              0.975   \n",
       "6  {'knn__k': 13}              0.925              0.950              0.975   \n",
       "7  {'knn__k': 15}              0.950              0.975              1.000   \n",
       "\n",
       "   mean_test_score  std_test_score  rank_test_score  \n",
       "0         0.941667        0.023570                8  \n",
       "1         0.958333        0.011785                3  \n",
       "2         0.975000        0.020412                1  \n",
       "3         0.958333        0.031180                3  \n",
       "4         0.950000        0.020412                5  \n",
       "5         0.950000        0.020412                5  \n",
       "6         0.950000        0.020412                5  \n",
       "7         0.975000        0.020412                1  "
      ]
     },
     "execution_count": 12,
     "metadata": {},
     "output_type": "execute_result"
    }
   ],
   "source": [
    "pd.DataFrame(grid_search.cv_results_)"
   ]
  },
  {
   "cell_type": "code",
   "execution_count": 13,
   "id": "7ec5e18e-34ad-4337-b36c-c6b0ea91b046",
   "metadata": {
    "tags": []
   },
   "outputs": [
    {
     "name": "stdout",
     "output_type": "stream",
     "text": [
      "[0, 2, 1, 1, 0, 1, 0, 0, 2, 1, 2, 2, 2, 1, 0, 0, 0, 1, 1, 2, 0, 2, 1, 1, 2, 1, 1, 0, 2, 0]\n"
     ]
    }
   ],
   "source": [
    "pred = grid_search.predict(x_test)\n",
    "print(pred)"
   ]
  },
  {
   "cell_type": "code",
   "execution_count": 14,
   "id": "c6fc20cf-33f5-43e4-8b40-cb7f12ee7b10",
   "metadata": {
    "tags": []
   },
   "outputs": [
    {
     "name": "stdout",
     "output_type": "stream",
     "text": [
      "[0, 2, 1, 1, 0, 1, 0, 0, 2, 1, 2, 2, 2, 1, 0, 0, 0, 1, 1, 2, 0, 2, 1, 2, 2, 1, 1, 0, 2, 0]\n"
     ]
    }
   ],
   "source": [
    "print([*y_test])"
   ]
  },
  {
   "cell_type": "code",
   "execution_count": 15,
   "id": "f3a63316-b0a8-4601-82b9-210114ba41fe",
   "metadata": {
    "tags": []
   },
   "outputs": [
    {
     "data": {
      "text/plain": [
       "0.9666666666666667"
      ]
     },
     "execution_count": 15,
     "metadata": {},
     "output_type": "execute_result"
    }
   ],
   "source": [
    "# Test Accuracy\n",
    "accuracy_score(y_test, pred)"
   ]
  },
  {
   "cell_type": "code",
   "execution_count": null,
   "id": "e8468a9e-b906-4607-8395-873af01b804d",
   "metadata": {
    "tags": []
   },
   "outputs": [],
   "source": []
  }
 ],
 "metadata": {
  "kernelspec": {
   "display_name": "Python 3 (ipykernel)",
   "language": "python",
   "name": "python3"
  },
  "language_info": {
   "codemirror_mode": {
    "name": "ipython",
    "version": 3
   },
   "file_extension": ".py",
   "mimetype": "text/x-python",
   "name": "python",
   "nbconvert_exporter": "python",
   "pygments_lexer": "ipython3",
   "version": "3.11.4"
  }
 },
 "nbformat": 4,
 "nbformat_minor": 5
}
