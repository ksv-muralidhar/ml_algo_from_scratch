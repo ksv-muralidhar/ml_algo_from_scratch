{
 "cells": [
  {
   "cell_type": "code",
   "execution_count": 1,
   "id": "a44c4d13-1ea4-4289-80d8-37d483dcaa2f",
   "metadata": {
    "tags": []
   },
   "outputs": [],
   "source": [
    "import numpy as np\n",
    "from sklearn.base import BaseEstimator, TransformerMixin"
   ]
  },
  {
   "cell_type": "code",
   "execution_count": 2,
   "id": "8323aa39-7680-4275-8b5d-b5bc19b79c59",
   "metadata": {
    "tags": []
   },
   "outputs": [],
   "source": [
    "class BatchGradientDescentClassifier(BaseEstimator, TransformerMixin):\n",
    "    '''\n",
    "    Fits Batch Gradient Descent Classifier model.\n",
    "    Supports only binary classification.\n",
    "    It is required to scale the input features before fitting the model. \n",
    "    \n",
    "    Params:\n",
    "    eta (float): Learning rate\n",
    "    epochs (int): number of epochs\n",
    "    tol (float): minimum reduction in loss required to continue training\n",
    "    threshold (float): threshold value to convert prediction probabilities into labels\n",
    "    predict_proba (bool): return probabilities or labels as predictions\n",
    "    verbose (bool): controls verbosity\n",
    "    '''\n",
    "    def __init__(self, eta: float = 0.001, epochs: int=1000, tol: float=0.001, \n",
    "                 threshold: float=0.5, predict_proba: bool=False, \n",
    "                 verbose: bool=True, random_state: int=42):\n",
    "        \n",
    "        self.eta = eta\n",
    "        self.epochs = epochs\n",
    "        self.tol = tol\n",
    "        self.threshold = threshold\n",
    "        self.predict_proba = predict_proba\n",
    "        self.verbose = verbose\n",
    "        self.random_state = random_state\n",
    "        self.weights = None\n",
    "        self.__z = None\n",
    "        self.__af = None\n",
    "        self.loss = 1\n",
    "        self.epsilon = 0.0000001 # prevents divisionbyzeroerror and log(0) conditions\n",
    "        self.loss_history = [0]\n",
    "\n",
    "\n",
    "    def __initialise_weights(self, n_col: int): # random weight initialization\n",
    "        np.random.seed(self.random_state)\n",
    "        self.weights = np.random.randn(n_col)\n",
    "\n",
    "        \n",
    "    def __sum_function(self, x: np.array):\n",
    "        self.__z = np.dot(x, self.weights.reshape(-1, 1)) # X.W\n",
    "        self.__af = 1 / (1 + np.exp(-1 * self.__z.ravel())) # sigmoid function = 1 / (1 + (e^-z))\n",
    "\n",
    "        \n",
    "    def __weight_update(self, x: np.array, y: np.array): # update weights\n",
    "        n_row = len(self.__af)\n",
    "        self.__errors = self.__af - y.ravel() # y_hat - y\n",
    "        self.weights = self.weights - (self.eta * (1 / n_row) * np.dot(self.__errors, x)) # weight updation\n",
    "\n",
    "        \n",
    "    def __loss_update(self, y: np.array): # update loss\n",
    "        # log loss = (-1/n).(y.log(y_hat) + (1-y).log(1-y_hat))\n",
    "        self.loss = -1 * ((y.ravel() * np.log(self.__af + self.epsilon)) + ((1 - y.ravel()) * np.log(1 - self.__af + self.epsilon)))\n",
    "        self.loss = np.mean(self.loss)\n",
    "\n",
    "        \n",
    "    def fit(self, x: np.array, y: np.array):\n",
    "        n_row, _ = x.shape\n",
    "        ones = np.ones((n_row, 1)) # array of 1s\n",
    "        x = np.hstack((ones, x)) # appending array of 1s to x as bias feature\n",
    "        _, n_col = x.shape\n",
    "        self.__initialise_weights(n_col=n_col) # random weight initialization\n",
    "        epoch = 0\n",
    "\n",
    "        while epoch < self.epochs: \n",
    "            self.__sum_function(x=x) # prediction\n",
    "            self.__weight_update(x=x, y=y) # weight update\n",
    "            self.__loss_update(y) # update loss\n",
    "            epoch += 1\n",
    "            if self.verbose:\n",
    "                print(f'Epoch {epoch} / {self.epochs}\\tTraining Log loss: {np.round(self.loss, 5)}')\n",
    "            self.loss_history.append(self.loss) # add loss to loss_history list\n",
    "            \n",
    "            if np.abs(self.loss_history[-1] - self.loss_history[-2]) < self.tol:\n",
    "                if self.verbose:\n",
    "                    print(\"Exiting as reduction in Log loss < tol\")\n",
    "                break\n",
    "        return self\n",
    "\n",
    "                \n",
    "    def predict(self, x: np.array):\n",
    "        n_row, _ = x.shape\n",
    "        ones = np.ones((n_row, 1)) # array of 1s\n",
    "        x = np.hstack((ones, x)) # appending array of 1s to x as bias feature\n",
    "        z = np.dot(x, self.weights.reshape(-1, 1)) # X.W\n",
    "        pred_prob = 1 / (1 + np.exp(-1 * z.ravel())) # sigmoid function = 1 / (1 + (e^-z))\n",
    "        if not self.predict_proba:\n",
    "            pred = (pred_prob >= self.threshold).astype(np.int8) # convert probs to labels using threshold\n",
    "            return pred # labels prediction\n",
    "        return pred_prob # prediction probs\n",
    "    \n",
    "    def __repr__(self):\n",
    "        return f\"BatchGradientDescentClassifier(eta={self.eta}, epochs={self.epochs}, tol={self.tol}, \" + \\\n",
    "                f\"threshold={self.threshold}, predict_proba={self.predict_proba}, verbose={self.verbose}, \" + \\\n",
    "                f\"random_state={self.random_state})\""
   ]
  },
  {
   "cell_type": "markdown",
   "id": "7687dc90-c173-4a11-a526-41bb75164919",
   "metadata": {},
   "source": [
    "<h3>Testing the algorithm on breast cancer dataset"
   ]
  },
  {
   "cell_type": "code",
   "execution_count": 3,
   "id": "9537fbf5-03a5-4d3f-9b6f-d998b8efdd47",
   "metadata": {
    "tags": []
   },
   "outputs": [],
   "source": [
    "import pandas as pd\n",
    "from sklearn.preprocessing import MinMaxScaler\n",
    "from sklearn.datasets import load_breast_cancer\n",
    "from sklearn.model_selection import train_test_split\n",
    "from sklearn.metrics import balanced_accuracy_score, roc_auc_score\n",
    "from imblearn.over_sampling import SMOTE\n",
    "from imblearn.pipeline import Pipeline as imbpipeline\n",
    "from sklearn.model_selection import GridSearchCV"
   ]
  },
  {
   "cell_type": "code",
   "execution_count": 4,
   "id": "5cc2cdbd-a065-45c9-8b28-b3468ddc8ab8",
   "metadata": {
    "tags": []
   },
   "outputs": [],
   "source": [
    "data = load_breast_cancer()"
   ]
  },
  {
   "cell_type": "code",
   "execution_count": 5,
   "id": "e96f23e0-43be-4edd-b334-2b9e63c44507",
   "metadata": {
    "tags": []
   },
   "outputs": [],
   "source": [
    "x = data['data']\n",
    "y = data['target']"
   ]
  },
  {
   "cell_type": "code",
   "execution_count": 6,
   "id": "48c8362b-828f-475e-89eb-ccf347f2156b",
   "metadata": {
    "tags": []
   },
   "outputs": [
    {
     "data": {
      "text/plain": [
       "((569, 30), (569,))"
      ]
     },
     "execution_count": 6,
     "metadata": {},
     "output_type": "execute_result"
    }
   ],
   "source": [
    "x.shape, y.shape"
   ]
  },
  {
   "cell_type": "code",
   "execution_count": 7,
   "id": "ca101f69-6163-4f77-b27c-b7d8cd253695",
   "metadata": {
    "tags": []
   },
   "outputs": [
    {
     "data": {
      "text/plain": [
       "1    357\n",
       "0    212\n",
       "dtype: int64"
      ]
     },
     "execution_count": 7,
     "metadata": {},
     "output_type": "execute_result"
    }
   ],
   "source": [
    "pd.Series(y).value_counts()"
   ]
  },
  {
   "cell_type": "code",
   "execution_count": 8,
   "id": "fdb9a2ff-8f84-49c5-92ef-f2354292e65c",
   "metadata": {
    "tags": []
   },
   "outputs": [],
   "source": [
    "x_train, x_test, y_train, y_test = train_test_split(x, y, test_size=0.2, random_state=42, stratify=y)"
   ]
  },
  {
   "cell_type": "code",
   "execution_count": 9,
   "id": "c4cff203-3a68-4146-9418-2d2fa444fd00",
   "metadata": {
    "tags": []
   },
   "outputs": [],
   "source": [
    "model_pipeline = imbpipeline(steps=[['smote', SMOTE(random_state=42)],\n",
    "                                    ['minmax_scaler', MinMaxScaler()],\n",
    "                                    ['classifier', BatchGradientDescentClassifier(verbose=False)]])"
   ]
  },
  {
   "cell_type": "code",
   "execution_count": 10,
   "id": "419c38b2-f8cd-4a65-aa48-d1ef26840f8a",
   "metadata": {},
   "outputs": [],
   "source": [
    "param_grid = {'classifier__eta': [0.01, 0.1, 1, 10],\n",
    "              'classifier__tol': [0.00001, 0.000001],\n",
    "              'classifier__epochs': [1500, 2000, 2500, 3000],\n",
    "              'classifier__threshold': [*np.linspace(0.3, 0.8, 10)]}"
   ]
  },
  {
   "cell_type": "code",
   "execution_count": 11,
   "id": "8665a081-d095-4dfa-921b-4d2f72196f59",
   "metadata": {
    "tags": []
   },
   "outputs": [],
   "source": [
    "grid_search = GridSearchCV(estimator=model_pipeline, \n",
    "                           param_grid=param_grid,\n",
    "                           scoring=\"balanced_accuracy\",\n",
    "                           n_jobs=-1,\n",
    "                           cv=3,\n",
    "                           verbose=1)"
   ]
  },
  {
   "cell_type": "code",
   "execution_count": 12,
   "id": "8bd3838d-9dc2-4b51-9dc0-fe079a33a35f",
   "metadata": {
    "tags": []
   },
   "outputs": [
    {
     "name": "stdout",
     "output_type": "stream",
     "text": [
      "Fitting 3 folds for each of 320 candidates, totalling 960 fits\n"
     ]
    },
    {
     "data": {
      "text/html": [
       "<style>#sk-container-id-1 {color: black;background-color: white;}#sk-container-id-1 pre{padding: 0;}#sk-container-id-1 div.sk-toggleable {background-color: white;}#sk-container-id-1 label.sk-toggleable__label {cursor: pointer;display: block;width: 100%;margin-bottom: 0;padding: 0.3em;box-sizing: border-box;text-align: center;}#sk-container-id-1 label.sk-toggleable__label-arrow:before {content: \"▸\";float: left;margin-right: 0.25em;color: #696969;}#sk-container-id-1 label.sk-toggleable__label-arrow:hover:before {color: black;}#sk-container-id-1 div.sk-estimator:hover label.sk-toggleable__label-arrow:before {color: black;}#sk-container-id-1 div.sk-toggleable__content {max-height: 0;max-width: 0;overflow: hidden;text-align: left;background-color: #f0f8ff;}#sk-container-id-1 div.sk-toggleable__content pre {margin: 0.2em;color: black;border-radius: 0.25em;background-color: #f0f8ff;}#sk-container-id-1 input.sk-toggleable__control:checked~div.sk-toggleable__content {max-height: 200px;max-width: 100%;overflow: auto;}#sk-container-id-1 input.sk-toggleable__control:checked~label.sk-toggleable__label-arrow:before {content: \"▾\";}#sk-container-id-1 div.sk-estimator input.sk-toggleable__control:checked~label.sk-toggleable__label {background-color: #d4ebff;}#sk-container-id-1 div.sk-label input.sk-toggleable__control:checked~label.sk-toggleable__label {background-color: #d4ebff;}#sk-container-id-1 input.sk-hidden--visually {border: 0;clip: rect(1px 1px 1px 1px);clip: rect(1px, 1px, 1px, 1px);height: 1px;margin: -1px;overflow: hidden;padding: 0;position: absolute;width: 1px;}#sk-container-id-1 div.sk-estimator {font-family: monospace;background-color: #f0f8ff;border: 1px dotted black;border-radius: 0.25em;box-sizing: border-box;margin-bottom: 0.5em;}#sk-container-id-1 div.sk-estimator:hover {background-color: #d4ebff;}#sk-container-id-1 div.sk-parallel-item::after {content: \"\";width: 100%;border-bottom: 1px solid gray;flex-grow: 1;}#sk-container-id-1 div.sk-label:hover label.sk-toggleable__label {background-color: #d4ebff;}#sk-container-id-1 div.sk-serial::before {content: \"\";position: absolute;border-left: 1px solid gray;box-sizing: border-box;top: 0;bottom: 0;left: 50%;z-index: 0;}#sk-container-id-1 div.sk-serial {display: flex;flex-direction: column;align-items: center;background-color: white;padding-right: 0.2em;padding-left: 0.2em;position: relative;}#sk-container-id-1 div.sk-item {position: relative;z-index: 1;}#sk-container-id-1 div.sk-parallel {display: flex;align-items: stretch;justify-content: center;background-color: white;position: relative;}#sk-container-id-1 div.sk-item::before, #sk-container-id-1 div.sk-parallel-item::before {content: \"\";position: absolute;border-left: 1px solid gray;box-sizing: border-box;top: 0;bottom: 0;left: 50%;z-index: -1;}#sk-container-id-1 div.sk-parallel-item {display: flex;flex-direction: column;z-index: 1;position: relative;background-color: white;}#sk-container-id-1 div.sk-parallel-item:first-child::after {align-self: flex-end;width: 50%;}#sk-container-id-1 div.sk-parallel-item:last-child::after {align-self: flex-start;width: 50%;}#sk-container-id-1 div.sk-parallel-item:only-child::after {width: 0;}#sk-container-id-1 div.sk-dashed-wrapped {border: 1px dashed gray;margin: 0 0.4em 0.5em 0.4em;box-sizing: border-box;padding-bottom: 0.4em;background-color: white;}#sk-container-id-1 div.sk-label label {font-family: monospace;font-weight: bold;display: inline-block;line-height: 1.2em;}#sk-container-id-1 div.sk-label-container {text-align: center;}#sk-container-id-1 div.sk-container {/* jupyter's `normalize.less` sets `[hidden] { display: none; }` but bootstrap.min.css set `[hidden] { display: none !important; }` so we also need the `!important` here to be able to override the default hidden behavior on the sphinx rendered scikit-learn.org. See: https://github.com/scikit-learn/scikit-learn/issues/21755 */display: inline-block !important;position: relative;}#sk-container-id-1 div.sk-text-repr-fallback {display: none;}</style><div id=\"sk-container-id-1\" class=\"sk-top-container\"><div class=\"sk-text-repr-fallback\"><pre>GridSearchCV(cv=3,\n",
       "             estimator=Pipeline(steps=[[&#x27;smote&#x27;, SMOTE(random_state=42)],\n",
       "                                       [&#x27;minmax_scaler&#x27;, MinMaxScaler()],\n",
       "                                       [&#x27;classifier&#x27;,\n",
       "                                        BatchGradientDescentClassifier(verbose=False)]]),\n",
       "             n_jobs=-1,\n",
       "             param_grid={&#x27;classifier__epochs&#x27;: [1500, 2000, 2500, 3000],\n",
       "                         &#x27;classifier__eta&#x27;: [0.01, 0.1, 1, 10],\n",
       "                         &#x27;classifier__threshold&#x27;: [0.3, 0.3555555555555555,\n",
       "                                                   0.4111111111111111,\n",
       "                                                   0.4666666666666667,\n",
       "                                                   0.5222222222222221,\n",
       "                                                   0.5777777777777777,\n",
       "                                                   0.6333333333333333,\n",
       "                                                   0.6888888888888889,\n",
       "                                                   0.7444444444444445, 0.8],\n",
       "                         &#x27;classifier__tol&#x27;: [1e-05, 1e-06]},\n",
       "             scoring=&#x27;balanced_accuracy&#x27;, verbose=1)</pre><b>In a Jupyter environment, please rerun this cell to show the HTML representation or trust the notebook. <br />On GitHub, the HTML representation is unable to render, please try loading this page with nbviewer.org.</b></div><div class=\"sk-container\" hidden><div class=\"sk-item sk-dashed-wrapped\"><div class=\"sk-label-container\"><div class=\"sk-label sk-toggleable\"><input class=\"sk-toggleable__control sk-hidden--visually\" id=\"sk-estimator-id-1\" type=\"checkbox\" ><label for=\"sk-estimator-id-1\" class=\"sk-toggleable__label sk-toggleable__label-arrow\">GridSearchCV</label><div class=\"sk-toggleable__content\"><pre>GridSearchCV(cv=3,\n",
       "             estimator=Pipeline(steps=[[&#x27;smote&#x27;, SMOTE(random_state=42)],\n",
       "                                       [&#x27;minmax_scaler&#x27;, MinMaxScaler()],\n",
       "                                       [&#x27;classifier&#x27;,\n",
       "                                        BatchGradientDescentClassifier(verbose=False)]]),\n",
       "             n_jobs=-1,\n",
       "             param_grid={&#x27;classifier__epochs&#x27;: [1500, 2000, 2500, 3000],\n",
       "                         &#x27;classifier__eta&#x27;: [0.01, 0.1, 1, 10],\n",
       "                         &#x27;classifier__threshold&#x27;: [0.3, 0.3555555555555555,\n",
       "                                                   0.4111111111111111,\n",
       "                                                   0.4666666666666667,\n",
       "                                                   0.5222222222222221,\n",
       "                                                   0.5777777777777777,\n",
       "                                                   0.6333333333333333,\n",
       "                                                   0.6888888888888889,\n",
       "                                                   0.7444444444444445, 0.8],\n",
       "                         &#x27;classifier__tol&#x27;: [1e-05, 1e-06]},\n",
       "             scoring=&#x27;balanced_accuracy&#x27;, verbose=1)</pre></div></div></div><div class=\"sk-parallel\"><div class=\"sk-parallel-item\"><div class=\"sk-item\"><div class=\"sk-label-container\"><div class=\"sk-label sk-toggleable\"><input class=\"sk-toggleable__control sk-hidden--visually\" id=\"sk-estimator-id-2\" type=\"checkbox\" ><label for=\"sk-estimator-id-2\" class=\"sk-toggleable__label sk-toggleable__label-arrow\">estimator: Pipeline</label><div class=\"sk-toggleable__content\"><pre>Pipeline(steps=[[&#x27;smote&#x27;, SMOTE(random_state=42)],\n",
       "                [&#x27;minmax_scaler&#x27;, MinMaxScaler()],\n",
       "                [&#x27;classifier&#x27;, BatchGradientDescentClassifier(verbose=False)]])</pre></div></div></div><div class=\"sk-serial\"><div class=\"sk-item\"><div class=\"sk-serial\"><div class=\"sk-item\"><div class=\"sk-estimator sk-toggleable\"><input class=\"sk-toggleable__control sk-hidden--visually\" id=\"sk-estimator-id-3\" type=\"checkbox\" ><label for=\"sk-estimator-id-3\" class=\"sk-toggleable__label sk-toggleable__label-arrow\">SMOTE</label><div class=\"sk-toggleable__content\"><pre>SMOTE(random_state=42)</pre></div></div></div><div class=\"sk-item\"><div class=\"sk-estimator sk-toggleable\"><input class=\"sk-toggleable__control sk-hidden--visually\" id=\"sk-estimator-id-4\" type=\"checkbox\" ><label for=\"sk-estimator-id-4\" class=\"sk-toggleable__label sk-toggleable__label-arrow\">MinMaxScaler</label><div class=\"sk-toggleable__content\"><pre>MinMaxScaler()</pre></div></div></div><div class=\"sk-item\"><div class=\"sk-estimator sk-toggleable\"><input class=\"sk-toggleable__control sk-hidden--visually\" id=\"sk-estimator-id-5\" type=\"checkbox\" ><label for=\"sk-estimator-id-5\" class=\"sk-toggleable__label sk-toggleable__label-arrow\">BatchGradientDescentClassifier</label><div class=\"sk-toggleable__content\"><pre>BatchGradientDescentClassifier(eta=0.001, epochs=1000, tol=0.001, threshold=0.5, predict_proba=False, verbose=False, random_state=42)</pre></div></div></div></div></div></div></div></div></div></div></div></div>"
      ],
      "text/plain": [
       "GridSearchCV(cv=3,\n",
       "             estimator=Pipeline(steps=[['smote', SMOTE(random_state=42)],\n",
       "                                       ['minmax_scaler', MinMaxScaler()],\n",
       "                                       ['classifier',\n",
       "                                        BatchGradientDescentClassifier(verbose=False)]]),\n",
       "             n_jobs=-1,\n",
       "             param_grid={'classifier__epochs': [1500, 2000, 2500, 3000],\n",
       "                         'classifier__eta': [0.01, 0.1, 1, 10],\n",
       "                         'classifier__threshold': [0.3, 0.3555555555555555,\n",
       "                                                   0.4111111111111111,\n",
       "                                                   0.4666666666666667,\n",
       "                                                   0.5222222222222221,\n",
       "                                                   0.5777777777777777,\n",
       "                                                   0.6333333333333333,\n",
       "                                                   0.6888888888888889,\n",
       "                                                   0.7444444444444445, 0.8],\n",
       "                         'classifier__tol': [1e-05, 1e-06]},\n",
       "             scoring='balanced_accuracy', verbose=1)"
      ]
     },
     "execution_count": 12,
     "metadata": {},
     "output_type": "execute_result"
    }
   ],
   "source": [
    "grid_search.fit(x_train, y_train)"
   ]
  },
  {
   "cell_type": "code",
   "execution_count": 13,
   "id": "7b06abc7-d067-4976-9b7b-6cc642ebf6e0",
   "metadata": {
    "tags": []
   },
   "outputs": [
    {
     "data": {
      "text/plain": [
       "{'classifier__epochs': 2000,\n",
       " 'classifier__eta': 1,\n",
       " 'classifier__threshold': 0.5222222222222221,\n",
       " 'classifier__tol': 1e-05}"
      ]
     },
     "execution_count": 13,
     "metadata": {},
     "output_type": "execute_result"
    }
   ],
   "source": [
    "grid_search.best_params_"
   ]
  },
  {
   "cell_type": "code",
   "execution_count": 14,
   "id": "dc36fbdb-b4da-4bef-8368-e67797c100fb",
   "metadata": {
    "tags": []
   },
   "outputs": [
    {
     "data": {
      "text/html": [
       "<div>\n",
       "<style scoped>\n",
       "    .dataframe tbody tr th:only-of-type {\n",
       "        vertical-align: middle;\n",
       "    }\n",
       "\n",
       "    .dataframe tbody tr th {\n",
       "        vertical-align: top;\n",
       "    }\n",
       "\n",
       "    .dataframe thead th {\n",
       "        text-align: right;\n",
       "    }\n",
       "</style>\n",
       "<table border=\"1\" class=\"dataframe\">\n",
       "  <thead>\n",
       "    <tr style=\"text-align: right;\">\n",
       "      <th></th>\n",
       "      <th>mean_fit_time</th>\n",
       "      <th>std_fit_time</th>\n",
       "      <th>mean_score_time</th>\n",
       "      <th>std_score_time</th>\n",
       "      <th>param_classifier__epochs</th>\n",
       "      <th>param_classifier__eta</th>\n",
       "      <th>param_classifier__threshold</th>\n",
       "      <th>param_classifier__tol</th>\n",
       "      <th>params</th>\n",
       "      <th>split0_test_score</th>\n",
       "      <th>split1_test_score</th>\n",
       "      <th>split2_test_score</th>\n",
       "      <th>mean_test_score</th>\n",
       "      <th>std_test_score</th>\n",
       "      <th>rank_test_score</th>\n",
       "    </tr>\n",
       "  </thead>\n",
       "  <tbody>\n",
       "    <tr>\n",
       "      <th>0</th>\n",
       "      <td>0.307614</td>\n",
       "      <td>0.007364</td>\n",
       "      <td>0.005207</td>\n",
       "      <td>0.007364</td>\n",
       "      <td>1500</td>\n",
       "      <td>0.01</td>\n",
       "      <td>0.3</td>\n",
       "      <td>0.00001</td>\n",
       "      <td>{'classifier__epochs': 1500, 'classifier__eta'...</td>\n",
       "      <td>0.780702</td>\n",
       "      <td>0.812500</td>\n",
       "      <td>0.784155</td>\n",
       "      <td>0.792452</td>\n",
       "      <td>0.014246</td>\n",
       "      <td>295</td>\n",
       "    </tr>\n",
       "    <tr>\n",
       "      <th>1</th>\n",
       "      <td>0.312823</td>\n",
       "      <td>0.012755</td>\n",
       "      <td>0.005207</td>\n",
       "      <td>0.007364</td>\n",
       "      <td>1500</td>\n",
       "      <td>0.01</td>\n",
       "      <td>0.3</td>\n",
       "      <td>0.000001</td>\n",
       "      <td>{'classifier__epochs': 1500, 'classifier__eta'...</td>\n",
       "      <td>0.780702</td>\n",
       "      <td>0.812500</td>\n",
       "      <td>0.784155</td>\n",
       "      <td>0.792452</td>\n",
       "      <td>0.014246</td>\n",
       "      <td>295</td>\n",
       "    </tr>\n",
       "    <tr>\n",
       "      <th>2</th>\n",
       "      <td>0.281447</td>\n",
       "      <td>0.022279</td>\n",
       "      <td>0.000000</td>\n",
       "      <td>0.000000</td>\n",
       "      <td>1500</td>\n",
       "      <td>0.01</td>\n",
       "      <td>0.355556</td>\n",
       "      <td>0.00001</td>\n",
       "      <td>{'classifier__epochs': 1500, 'classifier__eta'...</td>\n",
       "      <td>0.857895</td>\n",
       "      <td>0.866071</td>\n",
       "      <td>0.849011</td>\n",
       "      <td>0.857659</td>\n",
       "      <td>0.006967</td>\n",
       "      <td>283</td>\n",
       "    </tr>\n",
       "    <tr>\n",
       "      <th>3</th>\n",
       "      <td>0.239525</td>\n",
       "      <td>0.007364</td>\n",
       "      <td>0.000000</td>\n",
       "      <td>0.000000</td>\n",
       "      <td>1500</td>\n",
       "      <td>0.01</td>\n",
       "      <td>0.355556</td>\n",
       "      <td>0.000001</td>\n",
       "      <td>{'classifier__epochs': 1500, 'classifier__eta'...</td>\n",
       "      <td>0.857895</td>\n",
       "      <td>0.866071</td>\n",
       "      <td>0.849011</td>\n",
       "      <td>0.857659</td>\n",
       "      <td>0.006967</td>\n",
       "      <td>283</td>\n",
       "    </tr>\n",
       "    <tr>\n",
       "      <th>4</th>\n",
       "      <td>0.249940</td>\n",
       "      <td>0.012755</td>\n",
       "      <td>0.005207</td>\n",
       "      <td>0.007364</td>\n",
       "      <td>1500</td>\n",
       "      <td>0.01</td>\n",
       "      <td>0.411111</td>\n",
       "      <td>0.00001</td>\n",
       "      <td>{'classifier__epochs': 1500, 'classifier__eta'...</td>\n",
       "      <td>0.887719</td>\n",
       "      <td>0.896577</td>\n",
       "      <td>0.891004</td>\n",
       "      <td>0.891767</td>\n",
       "      <td>0.003656</td>\n",
       "      <td>267</td>\n",
       "    </tr>\n",
       "    <tr>\n",
       "      <th>...</th>\n",
       "      <td>...</td>\n",
       "      <td>...</td>\n",
       "      <td>...</td>\n",
       "      <td>...</td>\n",
       "      <td>...</td>\n",
       "      <td>...</td>\n",
       "      <td>...</td>\n",
       "      <td>...</td>\n",
       "      <td>...</td>\n",
       "      <td>...</td>\n",
       "      <td>...</td>\n",
       "      <td>...</td>\n",
       "      <td>...</td>\n",
       "      <td>...</td>\n",
       "      <td>...</td>\n",
       "    </tr>\n",
       "    <tr>\n",
       "      <th>315</th>\n",
       "      <td>0.514115</td>\n",
       "      <td>0.010693</td>\n",
       "      <td>0.001662</td>\n",
       "      <td>0.000470</td>\n",
       "      <td>3000</td>\n",
       "      <td>10</td>\n",
       "      <td>0.688889</td>\n",
       "      <td>0.000001</td>\n",
       "      <td>{'classifier__epochs': 3000, 'classifier__eta'...</td>\n",
       "      <td>0.929825</td>\n",
       "      <td>0.968006</td>\n",
       "      <td>0.989362</td>\n",
       "      <td>0.962397</td>\n",
       "      <td>0.024627</td>\n",
       "      <td>99</td>\n",
       "    </tr>\n",
       "    <tr>\n",
       "      <th>316</th>\n",
       "      <td>0.199495</td>\n",
       "      <td>0.036459</td>\n",
       "      <td>0.006205</td>\n",
       "      <td>0.006671</td>\n",
       "      <td>3000</td>\n",
       "      <td>10</td>\n",
       "      <td>0.744444</td>\n",
       "      <td>0.00001</td>\n",
       "      <td>{'classifier__epochs': 3000, 'classifier__eta'...</td>\n",
       "      <td>0.945614</td>\n",
       "      <td>0.952381</td>\n",
       "      <td>0.984043</td>\n",
       "      <td>0.960679</td>\n",
       "      <td>0.016750</td>\n",
       "      <td>123</td>\n",
       "    </tr>\n",
       "    <tr>\n",
       "      <th>317</th>\n",
       "      <td>0.503735</td>\n",
       "      <td>0.017893</td>\n",
       "      <td>0.001662</td>\n",
       "      <td>0.000470</td>\n",
       "      <td>3000</td>\n",
       "      <td>10</td>\n",
       "      <td>0.744444</td>\n",
       "      <td>0.000001</td>\n",
       "      <td>{'classifier__epochs': 3000, 'classifier__eta'...</td>\n",
       "      <td>0.929825</td>\n",
       "      <td>0.962798</td>\n",
       "      <td>0.989362</td>\n",
       "      <td>0.960661</td>\n",
       "      <td>0.024353</td>\n",
       "      <td>127</td>\n",
       "    </tr>\n",
       "    <tr>\n",
       "      <th>318</th>\n",
       "      <td>0.211768</td>\n",
       "      <td>0.033827</td>\n",
       "      <td>0.001663</td>\n",
       "      <td>0.000471</td>\n",
       "      <td>3000</td>\n",
       "      <td>10</td>\n",
       "      <td>0.8</td>\n",
       "      <td>0.00001</td>\n",
       "      <td>{'classifier__epochs': 3000, 'classifier__eta'...</td>\n",
       "      <td>0.940351</td>\n",
       "      <td>0.947173</td>\n",
       "      <td>0.968085</td>\n",
       "      <td>0.951870</td>\n",
       "      <td>0.011800</td>\n",
       "      <td>164</td>\n",
       "    </tr>\n",
       "    <tr>\n",
       "      <th>319</th>\n",
       "      <td>0.348415</td>\n",
       "      <td>0.003277</td>\n",
       "      <td>0.000000</td>\n",
       "      <td>0.000000</td>\n",
       "      <td>3000</td>\n",
       "      <td>10</td>\n",
       "      <td>0.8</td>\n",
       "      <td>0.000001</td>\n",
       "      <td>{'classifier__epochs': 3000, 'classifier__eta'...</td>\n",
       "      <td>0.929825</td>\n",
       "      <td>0.952381</td>\n",
       "      <td>0.978723</td>\n",
       "      <td>0.953643</td>\n",
       "      <td>0.019983</td>\n",
       "      <td>149</td>\n",
       "    </tr>\n",
       "  </tbody>\n",
       "</table>\n",
       "<p>320 rows × 15 columns</p>\n",
       "</div>"
      ],
      "text/plain": [
       "     mean_fit_time  std_fit_time  mean_score_time  std_score_time  \\\n",
       "0         0.307614      0.007364         0.005207        0.007364   \n",
       "1         0.312823      0.012755         0.005207        0.007364   \n",
       "2         0.281447      0.022279         0.000000        0.000000   \n",
       "3         0.239525      0.007364         0.000000        0.000000   \n",
       "4         0.249940      0.012755         0.005207        0.007364   \n",
       "..             ...           ...              ...             ...   \n",
       "315       0.514115      0.010693         0.001662        0.000470   \n",
       "316       0.199495      0.036459         0.006205        0.006671   \n",
       "317       0.503735      0.017893         0.001662        0.000470   \n",
       "318       0.211768      0.033827         0.001663        0.000471   \n",
       "319       0.348415      0.003277         0.000000        0.000000   \n",
       "\n",
       "    param_classifier__epochs param_classifier__eta  \\\n",
       "0                       1500                  0.01   \n",
       "1                       1500                  0.01   \n",
       "2                       1500                  0.01   \n",
       "3                       1500                  0.01   \n",
       "4                       1500                  0.01   \n",
       "..                       ...                   ...   \n",
       "315                     3000                    10   \n",
       "316                     3000                    10   \n",
       "317                     3000                    10   \n",
       "318                     3000                    10   \n",
       "319                     3000                    10   \n",
       "\n",
       "    param_classifier__threshold param_classifier__tol  \\\n",
       "0                           0.3               0.00001   \n",
       "1                           0.3              0.000001   \n",
       "2                      0.355556               0.00001   \n",
       "3                      0.355556              0.000001   \n",
       "4                      0.411111               0.00001   \n",
       "..                          ...                   ...   \n",
       "315                    0.688889              0.000001   \n",
       "316                    0.744444               0.00001   \n",
       "317                    0.744444              0.000001   \n",
       "318                         0.8               0.00001   \n",
       "319                         0.8              0.000001   \n",
       "\n",
       "                                                params  split0_test_score  \\\n",
       "0    {'classifier__epochs': 1500, 'classifier__eta'...           0.780702   \n",
       "1    {'classifier__epochs': 1500, 'classifier__eta'...           0.780702   \n",
       "2    {'classifier__epochs': 1500, 'classifier__eta'...           0.857895   \n",
       "3    {'classifier__epochs': 1500, 'classifier__eta'...           0.857895   \n",
       "4    {'classifier__epochs': 1500, 'classifier__eta'...           0.887719   \n",
       "..                                                 ...                ...   \n",
       "315  {'classifier__epochs': 3000, 'classifier__eta'...           0.929825   \n",
       "316  {'classifier__epochs': 3000, 'classifier__eta'...           0.945614   \n",
       "317  {'classifier__epochs': 3000, 'classifier__eta'...           0.929825   \n",
       "318  {'classifier__epochs': 3000, 'classifier__eta'...           0.940351   \n",
       "319  {'classifier__epochs': 3000, 'classifier__eta'...           0.929825   \n",
       "\n",
       "     split1_test_score  split2_test_score  mean_test_score  std_test_score  \\\n",
       "0             0.812500           0.784155         0.792452        0.014246   \n",
       "1             0.812500           0.784155         0.792452        0.014246   \n",
       "2             0.866071           0.849011         0.857659        0.006967   \n",
       "3             0.866071           0.849011         0.857659        0.006967   \n",
       "4             0.896577           0.891004         0.891767        0.003656   \n",
       "..                 ...                ...              ...             ...   \n",
       "315           0.968006           0.989362         0.962397        0.024627   \n",
       "316           0.952381           0.984043         0.960679        0.016750   \n",
       "317           0.962798           0.989362         0.960661        0.024353   \n",
       "318           0.947173           0.968085         0.951870        0.011800   \n",
       "319           0.952381           0.978723         0.953643        0.019983   \n",
       "\n",
       "     rank_test_score  \n",
       "0                295  \n",
       "1                295  \n",
       "2                283  \n",
       "3                283  \n",
       "4                267  \n",
       "..               ...  \n",
       "315               99  \n",
       "316              123  \n",
       "317              127  \n",
       "318              164  \n",
       "319              149  \n",
       "\n",
       "[320 rows x 15 columns]"
      ]
     },
     "execution_count": 14,
     "metadata": {},
     "output_type": "execute_result"
    }
   ],
   "source": [
    "pd.DataFrame(grid_search.cv_results_)"
   ]
  },
  {
   "cell_type": "code",
   "execution_count": 15,
   "id": "99515e84-e23b-482d-8adc-fcdbbd20ca0d",
   "metadata": {
    "tags": []
   },
   "outputs": [
    {
     "name": "stdout",
     "output_type": "stream",
     "text": [
      "[0 1 0 0 0 1 1 0 0 0 1 0 1 0 0 1 0 1 1 1 0 0 1 1 1 1 0 1 1 1 1 1 1 1 0 0 1\n",
      " 1 1 0 1 1 1 0 0 1 1 1 1 0 1 1 1 1 1 1 1 0 0 1 1 1 1 1 0 0 0 1 1 1 1 1 1 0\n",
      " 0 0 0 1 1 1 1 1 0 1 0 1 1 1 1 1 1 1 0 0 0 1 0 1 0 1 0 0 0 1 0 0 1 0 1 0 1\n",
      " 0 1 1]\n"
     ]
    }
   ],
   "source": [
    "pred = grid_search.predict(x_test)\n",
    "print(pred)"
   ]
  },
  {
   "cell_type": "code",
   "execution_count": 16,
   "id": "7b87823e-5b0c-45c3-9bd3-f661f7c3250c",
   "metadata": {
    "tags": []
   },
   "outputs": [
    {
     "name": "stdout",
     "output_type": "stream",
     "text": [
      "[0 1 0 1 0 1 1 0 0 0 1 0 1 0 0 1 1 1 1 1 0 0 1 1 1 1 0 1 1 1 1 1 1 1 0 0 1\n",
      " 1 1 0 1 1 1 0 0 1 1 1 1 0 1 1 1 0 1 1 1 0 0 1 1 1 1 1 0 0 1 1 1 1 1 1 1 0\n",
      " 0 0 0 1 1 1 1 1 0 1 0 1 1 1 1 1 1 1 0 0 0 1 0 1 0 1 0 0 0 1 0 0 1 0 1 0 1\n",
      " 0 1 1]\n"
     ]
    }
   ],
   "source": [
    "print(y_test)"
   ]
  },
  {
   "cell_type": "code",
   "execution_count": 17,
   "id": "6394843c-31e4-4306-96bb-0e92238c2320",
   "metadata": {
    "tags": []
   },
   "outputs": [
    {
     "data": {
      "text/plain": [
       "0.9672619047619048"
      ]
     },
     "execution_count": 17,
     "metadata": {},
     "output_type": "execute_result"
    }
   ],
   "source": [
    "# Test balanced Accuracy\n",
    "balanced_accuracy_score(y_test, pred)"
   ]
  }
 ],
 "metadata": {
  "kernelspec": {
   "display_name": "Python 3 (ipykernel)",
   "language": "python",
   "name": "python3"
  },
  "language_info": {
   "codemirror_mode": {
    "name": "ipython",
    "version": 3
   },
   "file_extension": ".py",
   "mimetype": "text/x-python",
   "name": "python",
   "nbconvert_exporter": "python",
   "pygments_lexer": "ipython3",
   "version": "3.11.4"
  }
 },
 "nbformat": 4,
 "nbformat_minor": 5
}
